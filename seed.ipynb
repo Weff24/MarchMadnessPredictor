{
 "cells": [
  {
   "cell_type": "markdown",
   "metadata": {},
   "source": [
    "### "
   ]
  },
  {
   "cell_type": "code",
   "execution_count": 1,
   "metadata": {},
   "outputs": [],
   "source": [
    "# make env\n",
    "# pip install requests\n",
    "# %pip install pandas\n",
    "# %pip install matplotlib \n",
    "# %pip install -U scikit-learn"
   ]
  },
  {
   "cell_type": "code",
   "execution_count": 2,
   "metadata": {},
   "outputs": [],
   "source": [
    "# Imports\n",
    "import pandas as pd\n",
    "import os\n",
    "import matplotlib.pyplot as plt\n",
    "import numpy as np\n",
    "from sklearn.model_selection import train_test_split, GridSearchCV\n",
    "from sklearn.ensemble import RandomForestClassifier\n",
    "from sklearn.metrics import accuracy_score\n",
    "from sklearn.neural_network import MLPClassifier\n",
    "from sklearn.tree import DecisionTreeClassifier\n",
    "from IPython.display import display, HTML"
   ]
  },
  {
   "cell_type": "markdown",
   "metadata": {},
   "source": [
    "### Load Dataset"
   ]
  },
  {
   "cell_type": "code",
   "execution_count": 3,
   "metadata": {},
   "outputs": [],
   "source": [
    "# Dataset Source: https://www.kaggle.com/datasets/andrewsundberg/college-basketball-dataset?select=cbb13.csv\n",
    "\n",
    "dataframes = {}\n",
    "directory = 'march_mad_data'\n",
    "\n",
    "# Load general cbb.csv dataset into a dataframe\n",
    "for filename in os.listdir(directory):\n",
    "    if filename.endswith(\"cbb.csv\"):\n",
    "        path = os.path.join(directory, filename)\n",
    "        dataframes[filename] = pd.read_csv(path)"
   ]
  },
  {
   "cell_type": "code",
   "execution_count": 4,
   "metadata": {},
   "outputs": [
    {
     "name": "stdout",
     "output_type": "stream",
     "text": [
      "                TEAM  CONF   G   W  ADJOE  ADJDE  BARTHAG  EFG_O  EFG_D   TOR  \\\n",
      "0     North Carolina   ACC  40  33  123.3   94.9   0.9531   52.6   48.1  15.4   \n",
      "1          Wisconsin   B10  40  36  129.1   93.6   0.9758   54.8   47.7  12.4   \n",
      "2           Michigan   B10  40  33  114.4   90.4   0.9375   53.9   47.7  14.0   \n",
      "3         Texas Tech   B12  38  31  115.2   85.2   0.9696   53.5   43.0  17.7   \n",
      "4            Gonzaga   WCC  39  37  117.8   86.3   0.9728   56.6   41.1  16.2   \n",
      "...              ...   ...  ..  ..    ...    ...      ...    ...    ...   ...   \n",
      "3518          Toledo   MAC  34  27  119.9  109.6   0.7369   56.3   52.9  13.6   \n",
      "3519         Liberty  ASun  33  27  111.4   97.3   0.8246   55.5   49.3  16.0   \n",
      "3520     Utah Valley   WAC  34  28  107.1   94.6   0.8065   51.7   44.0  19.3   \n",
      "3521             UAB  CUSA  38  29  112.4   97.0   0.8453   50.3   47.3  17.3   \n",
      "3522     North Texas  CUSA  36  31  110.0   93.8   0.8622   51.2   44.5  19.8   \n",
      "\n",
      "      ...  FTRD  2P_O  2P_D  3P_O  3P_D  ADJ_T   WAB  POSTSEASON  SEED  YEAR  \n",
      "0     ...  30.4  53.9  44.6  32.7  36.2   71.7   8.6         2ND   1.0  2016  \n",
      "1     ...  22.4  54.8  44.7  36.5  37.5   59.3  11.3         2ND   1.0  2015  \n",
      "2     ...  30.0  54.7  46.8  35.2  33.2   65.9   6.9         2ND   3.0  2018  \n",
      "3     ...  36.6  52.8  41.9  36.5  29.7   67.5   7.0         2ND   3.0  2019  \n",
      "4     ...  26.9  56.3  40.0  38.2  29.0   71.5   7.7         2ND   1.0  2017  \n",
      "...   ...   ...   ...   ...   ...   ...    ...   ...         ...   ...   ...  \n",
      "3518  ...  27.5  54.6  52.1  39.7  36.1   69.5  -1.2         NaN   NaN  2023  \n",
      "3519  ...  27.8  56.4  48.6  36.4  33.6   64.4  -2.0         NaN   NaN  2023  \n",
      "3520  ...  28.7  52.5  42.8  33.4  31.1   69.8  -0.3         NaN   NaN  2023  \n",
      "3521  ...  28.9  48.8  47.2  35.6  31.6   70.7  -0.5         NaN   NaN  2023  \n",
      "3522  ...  40.2  49.6  44.2  35.7  30.1   58.7   1.1         NaN   NaN  2023  \n",
      "\n",
      "[3523 rows x 24 columns]\n"
     ]
    }
   ],
   "source": [
    "df = dataframes[\"cbb.csv\"]\n",
    "print(df)"
   ]
  },
  {
   "cell_type": "markdown",
   "metadata": {},
   "source": [
    "### Data Cleaning"
   ]
  },
  {
   "cell_type": "code",
   "execution_count": 5,
   "metadata": {},
   "outputs": [
    {
     "name": "stdout",
     "output_type": "stream",
     "text": [
      "[ 1.  3.  8.  4.  2.  7.  6.  9. 11. 10.  5. nan 16. 12. 13. 14. 15.]\n",
      "number of rows: 3523\n",
      "number of columns: 24\n"
     ]
    }
   ],
   "source": [
    "clean_df = df.replace(\"N/A\", \"NA\")\n",
    "print(df[\"SEED\"].unique())\n",
    "print(f\"number of rows: {len(clean_df)}\")\n",
    "print(f\"number of columns: {len(clean_df.columns)}\")"
   ]
  },
  {
   "cell_type": "markdown",
   "metadata": {},
   "source": [
    "# Drop columns we don't want\n"
   ]
  },
  {
   "cell_type": "markdown",
   "metadata": {},
   "source": [
    "### Exploratory Data Analysis (EDA)"
   ]
  },
  {
   "cell_type": "code",
   "execution_count": 6,
   "metadata": {},
   "outputs": [
    {
     "name": "stdout",
     "output_type": "stream",
     "text": [
      "[ 1.  3.  8.  4.  2.  7.  6.  9. 11. 10.  5. 16. 12. 13. 14. 15.]\n",
      "680\n"
     ]
    }
   ],
   "source": [
    "seed_df = clean_df.dropna()\n",
    "print(seed_df[\"SEED\"].unique())\n",
    "print(len(seed_df))"
   ]
  },
  {
   "cell_type": "code",
   "execution_count": 7,
   "metadata": {},
   "outputs": [],
   "source": [
    "seed_df = seed_df.drop(columns=['TEAM', 'POSTSEASON'])\n",
    "one_hot_encoded = pd.get_dummies(seed_df['CONF'])\n",
    "seed_df = seed_df.drop(columns=['CONF'])\n",
    "seed_df = pd.concat([seed_df, one_hot_encoded], axis=1)\n",
    "seed_df['WINRATE'] = seed_df['W'] / seed_df['G']"
   ]
  },
  {
   "cell_type": "code",
   "execution_count": 8,
   "metadata": {},
   "outputs": [
    {
     "data": {
      "text/html": [
       "<table border=\"1\" class=\"dataframe\">\n",
       "  <thead>\n",
       "    <tr style=\"text-align: right;\">\n",
       "      <th></th>\n",
       "      <th>SEED</th>\n",
       "    </tr>\n",
       "  </thead>\n",
       "  <tbody>\n",
       "    <tr>\n",
       "      <th>SEED</th>\n",
       "      <td>1.000000</td>\n",
       "    </tr>\n",
       "    <tr>\n",
       "      <th>ADJDE</th>\n",
       "      <td>0.690730</td>\n",
       "    </tr>\n",
       "    <tr>\n",
       "      <th>2P_D</th>\n",
       "      <td>0.369974</td>\n",
       "    </tr>\n",
       "    <tr>\n",
       "      <th>EFG_D</th>\n",
       "      <td>0.367349</td>\n",
       "    </tr>\n",
       "    <tr>\n",
       "      <th>TOR</th>\n",
       "      <td>0.266311</td>\n",
       "    </tr>\n",
       "    <tr>\n",
       "      <th>FTRD</th>\n",
       "      <td>0.214671</td>\n",
       "    </tr>\n",
       "    <tr>\n",
       "      <th>NEC</th>\n",
       "      <td>0.188316</td>\n",
       "    </tr>\n",
       "    <tr>\n",
       "      <th>SWAC</th>\n",
       "      <td>0.185700</td>\n",
       "    </tr>\n",
       "    <tr>\n",
       "      <th>MEAC</th>\n",
       "      <td>0.183084</td>\n",
       "    </tr>\n",
       "    <tr>\n",
       "      <th>BSth</th>\n",
       "      <td>0.160213</td>\n",
       "    </tr>\n",
       "    <tr>\n",
       "      <th>3P_D</th>\n",
       "      <td>0.159121</td>\n",
       "    </tr>\n",
       "    <tr>\n",
       "      <th>Horz</th>\n",
       "      <td>0.151692</td>\n",
       "    </tr>\n",
       "    <tr>\n",
       "      <th>MAAC</th>\n",
       "      <td>0.149076</td>\n",
       "    </tr>\n",
       "    <tr>\n",
       "      <th>SB</th>\n",
       "      <td>0.147732</td>\n",
       "    </tr>\n",
       "    <tr>\n",
       "      <th>AE</th>\n",
       "      <td>0.146459</td>\n",
       "    </tr>\n",
       "    <tr>\n",
       "      <th>ASun</th>\n",
       "      <td>0.145453</td>\n",
       "    </tr>\n",
       "    <tr>\n",
       "      <th>Pat</th>\n",
       "      <td>0.143843</td>\n",
       "    </tr>\n",
       "    <tr>\n",
       "      <th>BSky</th>\n",
       "      <td>0.143843</td>\n",
       "    </tr>\n",
       "    <tr>\n",
       "      <th>Slnd</th>\n",
       "      <td>0.143843</td>\n",
       "    </tr>\n",
       "    <tr>\n",
       "      <th>BW</th>\n",
       "      <td>0.141227</td>\n",
       "    </tr>\n",
       "    <tr>\n",
       "      <th>CAA</th>\n",
       "      <td>0.128147</td>\n",
       "    </tr>\n",
       "    <tr>\n",
       "      <th>Sum</th>\n",
       "      <td>0.125531</td>\n",
       "    </tr>\n",
       "    <tr>\n",
       "      <th>WAC</th>\n",
       "      <td>0.122915</td>\n",
       "    </tr>\n",
       "    <tr>\n",
       "      <th>Ivy</th>\n",
       "      <td>0.117898</td>\n",
       "    </tr>\n",
       "    <tr>\n",
       "      <th>OVC</th>\n",
       "      <td>0.117778</td>\n",
       "    </tr>\n",
       "    <tr>\n",
       "      <th>SC</th>\n",
       "      <td>0.096755</td>\n",
       "    </tr>\n",
       "    <tr>\n",
       "      <th>MAC</th>\n",
       "      <td>0.094139</td>\n",
       "    </tr>\n",
       "    <tr>\n",
       "      <th>DRB</th>\n",
       "      <td>0.092929</td>\n",
       "    </tr>\n",
       "    <tr>\n",
       "      <th>CUSA</th>\n",
       "      <td>0.086291</td>\n",
       "    </tr>\n",
       "    <tr>\n",
       "      <th>FTR</th>\n",
       "      <td>0.083382</td>\n",
       "    </tr>\n",
       "    <tr>\n",
       "      <th>ADJ_T</th>\n",
       "      <td>0.013694</td>\n",
       "    </tr>\n",
       "    <tr>\n",
       "      <th>MVC</th>\n",
       "      <td>0.010599</td>\n",
       "    </tr>\n",
       "    <tr>\n",
       "      <th>A10</th>\n",
       "      <td>0.009133</td>\n",
       "    </tr>\n",
       "    <tr>\n",
       "      <th>YEAR</th>\n",
       "      <td>-0.001454</td>\n",
       "    </tr>\n",
       "    <tr>\n",
       "      <th>TORD</th>\n",
       "      <td>-0.002099</td>\n",
       "    </tr>\n",
       "    <tr>\n",
       "      <th>MWC</th>\n",
       "      <td>-0.007945</td>\n",
       "    </tr>\n",
       "    <tr>\n",
       "      <th>Amer</th>\n",
       "      <td>-0.088750</td>\n",
       "    </tr>\n",
       "    <tr>\n",
       "      <th>P12</th>\n",
       "      <td>-0.106583</td>\n",
       "    </tr>\n",
       "    <tr>\n",
       "      <th>WCC</th>\n",
       "      <td>-0.111259</td>\n",
       "    </tr>\n",
       "    <tr>\n",
       "      <th>3P_O</th>\n",
       "      <td>-0.152047</td>\n",
       "    </tr>\n",
       "    <tr>\n",
       "      <th>BE</th>\n",
       "      <td>-0.159475</td>\n",
       "    </tr>\n",
       "    <tr>\n",
       "      <th>SEC</th>\n",
       "      <td>-0.178517</td>\n",
       "    </tr>\n",
       "    <tr>\n",
       "      <th>B10</th>\n",
       "      <td>-0.203364</td>\n",
       "    </tr>\n",
       "    <tr>\n",
       "      <th>2P_O</th>\n",
       "      <td>-0.219235</td>\n",
       "    </tr>\n",
       "    <tr>\n",
       "      <th>ACC</th>\n",
       "      <td>-0.219656</td>\n",
       "    </tr>\n",
       "    <tr>\n",
       "      <th>EFG_O</th>\n",
       "      <td>-0.231130</td>\n",
       "    </tr>\n",
       "    <tr>\n",
       "      <th>B12</th>\n",
       "      <td>-0.251786</td>\n",
       "    </tr>\n",
       "    <tr>\n",
       "      <th>ORB</th>\n",
       "      <td>-0.293490</td>\n",
       "    </tr>\n",
       "    <tr>\n",
       "      <th>G</th>\n",
       "      <td>-0.363497</td>\n",
       "    </tr>\n",
       "    <tr>\n",
       "      <th>WINRATE</th>\n",
       "      <td>-0.403116</td>\n",
       "    </tr>\n",
       "    <tr>\n",
       "      <th>W</th>\n",
       "      <td>-0.540782</td>\n",
       "    </tr>\n",
       "    <tr>\n",
       "      <th>ADJOE</th>\n",
       "      <td>-0.744609</td>\n",
       "    </tr>\n",
       "    <tr>\n",
       "      <th>BARTHAG</th>\n",
       "      <td>-0.827418</td>\n",
       "    </tr>\n",
       "    <tr>\n",
       "      <th>WAB</th>\n",
       "      <td>-0.913801</td>\n",
       "    </tr>\n",
       "  </tbody>\n",
       "</table>"
      ],
      "text/plain": [
       "<IPython.core.display.HTML object>"
      ]
     },
     "metadata": {},
     "output_type": "display_data"
    }
   ],
   "source": [
    "correlation_table = seed_df.corr()['SEED']\n",
    "\n",
    "# Sort the correlation table\n",
    "sorted_correlation_table = correlation_table.sort_values(ascending=False)\n",
    "\n",
    "# Display the sorted correlation table with scrollable output\n",
    "display(HTML(sorted_correlation_table.to_frame().to_html()))\n"
   ]
  },
  {
   "cell_type": "markdown",
   "metadata": {},
   "source": [
    "### EDA Analysis"
   ]
  },
  {
   "cell_type": "code",
   "execution_count": 9,
   "metadata": {},
   "outputs": [],
   "source": [
    "### Team attributes with the highest impact on seeding \n",
    "### (larger magnitude correlations from the correlation table)\n",
    "\n",
    "# WAB = Wins Above Bubble (May not use because bubble/March Madness cutoff is always changing)\n",
    "# BARTHAG = Power Ranking / Chance of beating an average D1 team (May not use because subjective power-ranking)\n",
    "# ADJOE = Adjusted Offensive Efficiency (number of points scored every 100 possessions)\n",
    "# W = Wins\n",
    "# G = Games\n",
    "# ORB = Offensive Rebound Rate\n",
    "# EFG_O = Effective Field Goal Percentage Short\n",
    "# 2P_O = 2 Point shooting percentage\n",
    "\n",
    "# ADJDE = Adjusted Defensive Efficiency (number of points allowed every 100 opponent possessions)\n",
    "# 2P_D = 2 Point shooting percentage allowed\n",
    "# EFG_D = Effective Field Goal percentage allowed\n",
    "# TOR = Turnover Rate\n",
    "# FTR_D = Free Throw Rate allowed\n"
   ]
  },
  {
   "cell_type": "markdown",
   "metadata": {},
   "source": [
    "### Training Machine Learning Models"
   ]
  },
  {
   "cell_type": "markdown",
   "metadata": {},
   "source": [
    "#### Create data splits"
   ]
  },
  {
   "cell_type": "code",
   "execution_count": 10,
   "metadata": {},
   "outputs": [],
   "source": [
    "# Select the relevant columns for training the model\n",
    "features = ['WINRATE', 'ADJOE', 'ADJDE', 'EFG_O', 'EFG_D', 'TOR', 'ORB', 'FTRD', '2P_O', '2P_D']\n",
    "\n",
    "# Split the data into training and testing sets\n",
    "X = seed_df[features]\n",
    "y = seed_df['SEED']\n",
    "X_train, X_test, y_train, y_test = train_test_split(X, y, test_size=0.1, random_state=42)"
   ]
  },
  {
   "cell_type": "markdown",
   "metadata": {},
   "source": [
    "#### Decision Tree"
   ]
  },
  {
   "cell_type": "code",
   "execution_count": 11,
   "metadata": {},
   "outputs": [
    {
     "name": "stdout",
     "output_type": "stream",
     "text": [
      "Accuracy: 0.17647058823529413\n"
     ]
    }
   ],
   "source": [
    "# Create a decision tree classifier\n",
    "dt_classifier = DecisionTreeClassifier()\n",
    "\n",
    "# Train the classifier on the training data\n",
    "dt_classifier.fit(X_train, y_train)\n",
    "\n",
    "# Make predictions on the test set\n",
    "y_pred = dt_classifier.predict(X_test)\n",
    "\n",
    "# Calculate the accuracy of the classifier\n",
    "accuracy = accuracy_score(y_test, y_pred)\n",
    "print(\"Accuracy:\", accuracy)"
   ]
  },
  {
   "cell_type": "code",
   "execution_count": 12,
   "metadata": {},
   "outputs": [
    {
     "name": "stdout",
     "output_type": "stream",
     "text": [
      "DT Average Distance between Predicted and Actual Seed: 2.25\n"
     ]
    }
   ],
   "source": [
    "# Get the predicted seed values\n",
    "predicted_seeds = dt_classifier.predict(X_test)\n",
    "\n",
    "# Get the actual seed values\n",
    "actual_seeds = seed_df.loc[X_test.index]['SEED']\n",
    "\n",
    "# Calculate the absolute difference between predicted and actual seeds\n",
    "seed_diff = np.abs(predicted_seeds - actual_seeds)\n",
    "\n",
    "# Calculate the average distance\n",
    "average_distance = np.mean(seed_diff)\n",
    "\n",
    "print(\"DT Average Distance between Predicted and Actual Seed:\", average_distance)"
   ]
  },
  {
   "cell_type": "markdown",
   "metadata": {},
   "source": [
    "#### Random Forest Classifier"
   ]
  },
  {
   "cell_type": "code",
   "execution_count": 13,
   "metadata": {},
   "outputs": [
    {
     "name": "stdout",
     "output_type": "stream",
     "text": [
      "Accuracy: 0.3382352941176471\n"
     ]
    }
   ],
   "source": [
    "# Train the Random Forest model\n",
    "rf_classifier = RandomForestClassifier(n_estimators=200, random_state=42)\n",
    "rf_classifier.fit(X_train, y_train)\n",
    "\n",
    "# Make predictions on the test set\n",
    "y_pred = rf_classifier.predict(X_test)\n",
    "\n",
    "# Evaluate the model\n",
    "accuracy = accuracy_score(y_test, y_pred)\n",
    "print(\"Accuracy:\", accuracy)"
   ]
  },
  {
   "cell_type": "code",
   "execution_count": 14,
   "metadata": {},
   "outputs": [
    {
     "name": "stdout",
     "output_type": "stream",
     "text": [
      "RF Average Distance between Predicted and Actual Seed: 1.4705882352941178\n"
     ]
    }
   ],
   "source": [
    "# Get the predicted seed values\n",
    "predicted_seeds = rf_classifier.predict(X_test)\n",
    "\n",
    "# Get the actual seed values\n",
    "actual_seeds = seed_df.loc[X_test.index]['SEED']\n",
    "\n",
    "# Calculate the absolute difference between predicted and actual seeds\n",
    "seed_diff = np.abs(predicted_seeds - actual_seeds)\n",
    "\n",
    "# Calculate the average distance\n",
    "average_distance = np.mean(seed_diff)\n",
    "\n",
    "print(\"RF Average Distance between Predicted and Actual Seed:\", average_distance)"
   ]
  },
  {
   "cell_type": "markdown",
   "metadata": {},
   "source": [
    "### Grid Search RF"
   ]
  },
  {
   "cell_type": "code",
   "execution_count": 15,
   "metadata": {},
   "outputs": [],
   "source": [
    "# Define the parameter grid for grid search\n",
    "param_grid = {\n",
    "    'n_estimators': [100, 200, 300],\n",
    "    'max_depth': [None, 5, 10],\n",
    "    'min_samples_split': [2, 5, 10],\n",
    "    'min_samples_leaf': [1, 2, 4]\n",
    "}\n",
    "\n",
    "# Create the random forest classifier\n",
    "rf = RandomForestClassifier()\n",
    "\n",
    "# Create the grid search object\n",
    "grid_search = GridSearchCV(estimator=rf, param_grid=param_grid, cv=5)\n",
    "\n",
    "# Fit the grid search to the training data\n",
    "grid_search.fit(X_train, y_train)\n",
    "\n",
    "# Get the best parameters and best score\n",
    "best_params = grid_search.best_params_\n",
    "best_score = grid_search.best_score_\n",
    "\n",
    "# Use the best parameters to create the final random forest model\n",
    "final_rf = RandomForestClassifier(**best_params)\n",
    "\n",
    "# Fit the final model to the training data\n",
    "final_rf.fit(X_train, y_train)\n",
    "\n",
    "# Evaluate the final model on the test data\n",
    "accuracy = final_rf.score(X_test, y_test)"
   ]
  },
  {
   "cell_type": "code",
   "execution_count": 16,
   "metadata": {},
   "outputs": [
    {
     "name": "stdout",
     "output_type": "stream",
     "text": [
      "Final Random Forest Model Accuracy: 0.3382352941176471\n"
     ]
    }
   ],
   "source": [
    "print(\"Final Random Forest Model Accuracy:\", accuracy)"
   ]
  },
  {
   "cell_type": "code",
   "execution_count": 17,
   "metadata": {},
   "outputs": [
    {
     "name": "stdout",
     "output_type": "stream",
     "text": [
      "GridSearch RF Average Distance between Predicted and Actual Seed: 1.4264705882352942\n"
     ]
    }
   ],
   "source": [
    "# Get the predicted seed values\n",
    "predicted_seeds = final_rf.predict(X_test)\n",
    "\n",
    "# Get the actual seed values\n",
    "actual_seeds = seed_df.loc[X_test.index]['SEED']\n",
    "\n",
    "# Calculate the absolute difference between predicted and actual seeds\n",
    "seed_diff = np.abs(predicted_seeds - actual_seeds)\n",
    "\n",
    "# Calculate the average distance\n",
    "average_distance = np.mean(seed_diff)\n",
    "\n",
    "print(\"GridSearch RF Average Distance between Predicted and Actual Seed:\", average_distance)"
   ]
  },
  {
   "cell_type": "markdown",
   "metadata": {},
   "source": [
    "#### Neural Network"
   ]
  },
  {
   "cell_type": "code",
   "execution_count": 18,
   "metadata": {},
   "outputs": [
    {
     "name": "stdout",
     "output_type": "stream",
     "text": [
      "Predictions: [ 9. 16.  9. 16.  2. 16. 14.  9.  9.  9.  9.  1. 14. 14.  5.  9. 11.  9.\n",
      "  1. 16.  1.  3.  7. 14. 14.  1.  9.  2. 12.  2. 11. 14. 11.  9.  1.  9.\n",
      "  1.  3. 14.  1.  5. 14.  1.  9.  3. 16.  9. 16.  1. 13.  1. 14.  9.  9.\n",
      " 14. 14. 12.  1.  3.  2.  5.  1.  9. 12. 11. 14. 14. 12.]\n",
      "Accuracy: 0.19117647058823528\n"
     ]
    }
   ],
   "source": [
    "# Create an instance of the MLPClassifier\n",
    "nn_model = MLPClassifier(hidden_layer_sizes=(50, 50, 50), activation='relu', solver='adam', random_state=42)\n",
    "\n",
    "# Train the model\n",
    "nn_model.fit(X_train, y_train)\n",
    "\n",
    "# Make predictions on the test data\n",
    "predictions = nn_model.predict(X_test)\n",
    "\n",
    "# Evaluate the accuracy of the model\n",
    "accuracy = nn_model.score(X_test, y_test)\n",
    "\n",
    "# Print the predictions and accuracy\n",
    "print(\"Predictions:\", predictions)\n",
    "print(\"Accuracy:\", accuracy)"
   ]
  },
  {
   "cell_type": "code",
   "execution_count": 19,
   "metadata": {},
   "outputs": [
    {
     "name": "stdout",
     "output_type": "stream",
     "text": [
      "DT Average Distance between Predicted and Actual Seed: 2.161764705882353\n"
     ]
    }
   ],
   "source": [
    "# Get the predicted seed values\n",
    "predicted_seeds = nn_model.predict(X_test)\n",
    "\n",
    "# Get the actual seed values\n",
    "actual_seeds = seed_df.loc[X_test.index]['SEED']\n",
    "\n",
    "# Calculate the absolute difference between predicted and actual seeds\n",
    "seed_diff = np.abs(predicted_seeds - actual_seeds)\n",
    "\n",
    "# Calculate the average distance\n",
    "average_distance = np.mean(seed_diff)\n",
    "\n",
    "print(\"DT Average Distance between Predicted and Actual Seed:\", average_distance)"
   ]
  },
  {
   "cell_type": "markdown",
   "metadata": {},
   "source": [
    "### Graph Prediction Error of Chosen Model"
   ]
  },
  {
   "cell_type": "code",
   "execution_count": 20,
   "metadata": {},
   "outputs": [
    {
     "name": "stdout",
     "output_type": "stream",
     "text": [
      "Actual Seed: 9.0 , Predicted Seed: 9.0\n",
      "Actual Seed: 16.0 , Predicted Seed: 16.0\n",
      "Actual Seed: 3.0 , Predicted Seed: 4.0\n",
      "Actual Seed: 15.0 , Predicted Seed: 16.0\n",
      "Actual Seed: 1.0 , Predicted Seed: 3.0\n",
      "Actual Seed: 16.0 , Predicted Seed: 16.0\n",
      "Actual Seed: 13.0 , Predicted Seed: 14.0\n",
      "Actual Seed: 12.0 , Predicted Seed: 10.0\n",
      "Actual Seed: 12.0 , Predicted Seed: 9.0\n",
      "Actual Seed: 3.0 , Predicted Seed: 3.0\n",
      "Actual Seed: 7.0 , Predicted Seed: 2.0\n",
      "Actual Seed: 3.0 , Predicted Seed: 5.0\n",
      "Actual Seed: 15.0 , Predicted Seed: 15.0\n",
      "Actual Seed: 16.0 , Predicted Seed: 16.0\n",
      "Actual Seed: 6.0 , Predicted Seed: 7.0\n",
      "Actual Seed: 8.0 , Predicted Seed: 13.0\n",
      "Actual Seed: 9.0 , Predicted Seed: 9.0\n",
      "Actual Seed: 9.0 , Predicted Seed: 6.0\n",
      "Actual Seed: 11.0 , Predicted Seed: 9.0\n",
      "Actual Seed: 16.0 , Predicted Seed: 16.0\n",
      "Actual Seed: 2.0 , Predicted Seed: 1.0\n",
      "Actual Seed: 10.0 , Predicted Seed: 5.0\n",
      "Actual Seed: 9.0 , Predicted Seed: 11.0\n",
      "Actual Seed: 15.0 , Predicted Seed: 16.0\n",
      "Actual Seed: 15.0 , Predicted Seed: 13.0\n",
      "Actual Seed: 4.0 , Predicted Seed: 2.0\n",
      "Actual Seed: 3.0 , Predicted Seed: 5.0\n",
      "Actual Seed: 2.0 , Predicted Seed: 3.0\n",
      "Actual Seed: 11.0 , Predicted Seed: 8.0\n",
      "Actual Seed: 6.0 , Predicted Seed: 3.0\n",
      "Actual Seed: 12.0 , Predicted Seed: 12.0\n",
      "Actual Seed: 16.0 , Predicted Seed: 16.0\n",
      "Actual Seed: 11.0 , Predicted Seed: 10.0\n",
      "Actual Seed: 4.0 , Predicted Seed: 7.0\n",
      "Actual Seed: 2.0 , Predicted Seed: 2.0\n",
      "Actual Seed: 5.0 , Predicted Seed: 6.0\n",
      "Actual Seed: 11.0 , Predicted Seed: 9.0\n",
      "Actual Seed: 4.0 , Predicted Seed: 4.0\n",
      "Actual Seed: 16.0 , Predicted Seed: 16.0\n",
      "Actual Seed: 3.0 , Predicted Seed: 1.0\n",
      "Actual Seed: 7.0 , Predicted Seed: 8.0\n",
      "Actual Seed: 14.0 , Predicted Seed: 14.0\n",
      "Actual Seed: 2.0 , Predicted Seed: 1.0\n",
      "Actual Seed: 10.0 , Predicted Seed: 4.0\n",
      "Actual Seed: 11.0 , Predicted Seed: 9.0\n",
      "Actual Seed: 16.0 , Predicted Seed: 16.0\n",
      "Actual Seed: 4.0 , Predicted Seed: 5.0\n",
      "Actual Seed: 16.0 , Predicted Seed: 16.0\n",
      "Actual Seed: 2.0 , Predicted Seed: 1.0\n",
      "Actual Seed: 15.0 , Predicted Seed: 13.0\n",
      "Actual Seed: 2.0 , Predicted Seed: 2.0\n",
      "Actual Seed: 14.0 , Predicted Seed: 14.0\n",
      "Actual Seed: 4.0 , Predicted Seed: 3.0\n",
      "Actual Seed: 10.0 , Predicted Seed: 10.0\n",
      "Actual Seed: 15.0 , Predicted Seed: 16.0\n",
      "Actual Seed: 13.0 , Predicted Seed: 15.0\n",
      "Actual Seed: 12.0 , Predicted Seed: 12.0\n",
      "Actual Seed: 7.0 , Predicted Seed: 1.0\n",
      "Actual Seed: 5.0 , Predicted Seed: 8.0\n",
      "Actual Seed: 3.0 , Predicted Seed: 1.0\n",
      "Actual Seed: 9.0 , Predicted Seed: 11.0\n",
      "Actual Seed: 3.0 , Predicted Seed: 1.0\n",
      "Actual Seed: 9.0 , Predicted Seed: 9.0\n",
      "Actual Seed: 13.0 , Predicted Seed: 12.0\n",
      "Actual Seed: 13.0 , Predicted Seed: 11.0\n",
      "Actual Seed: 16.0 , Predicted Seed: 16.0\n",
      "Actual Seed: 13.0 , Predicted Seed: 13.0\n",
      "Actual Seed: 13.0 , Predicted Seed: 15.0\n"
     ]
    }
   ],
   "source": [
    "# Print actual vs predicted seed to check how accurate the predictions are\n",
    "# model = dt_classifier # Change to whatever model you want to use\n",
    "model = final_rf \n",
    "\n",
    "predicted_seeds = model.predict(X_test)\n",
    "for actual_seed, predicted_seed in zip(actual_seeds, predicted_seeds):\n",
    "    print(\"Actual Seed:\", actual_seed, \", Predicted Seed:\", predicted_seed)"
   ]
  },
  {
   "cell_type": "code",
   "execution_count": 21,
   "metadata": {},
   "outputs": [
    {
     "data": {
      "image/png": "[encoded data removed]",
      "text/plain": [
       "<Figure size 640x480 with 1 Axes>"
      ]
     },
     "metadata": {},
     "output_type": "display_data"
    }
   ],
   "source": [
    "# Calculate the difference between predicted seed and actual seed\n",
    "seed_difference = predicted_seeds - actual_seeds\n",
    "\n",
    "# Create a histogram of the seed difference\n",
    "fig = plt.figure()\n",
    "plt.hist(seed_difference, bins=range(-10, 10), edgecolor='black')\n",
    "\n",
    "# Set the labels and title\n",
    "plt.xlabel('Seed Difference (Predicted - Actual)')\n",
    "plt.ylabel('Frequency')\n",
    "plt.title('Distribution of Seed Difference')\n",
    "\n",
    "# Show the plot\n",
    "fig.patch.set_facecolor('white')\n",
    "plt.show()"
   ]
  },
  {
   "cell_type": "code",
   "execution_count": 22,
   "metadata": {},
   "outputs": [
    {
     "name": "stdout",
     "output_type": "stream",
     "text": [
      "Actual Seed: 1.0 , Predicted Seed: 1.0\n",
      "Actual Seed: 1.0 , Predicted Seed: 1.0\n",
      "Actual Seed: 1.0 , Predicted Seed: 1.0\n",
      "Actual Seed: 2.0 , Predicted Seed: 2.0\n",
      "Actual Seed: 4.0 , Predicted Seed: 1.0\n",
      "Actual Seed: 2.0 , Predicted Seed: 1.0\n",
      "Actual Seed: 2.0 , Predicted Seed: 1.0\n",
      "Actual Seed: 2.0 , Predicted Seed: 2.0\n",
      "Actual Seed: 1.0 , Predicted Seed: 1.0\n",
      "Actual Seed: 3.0 , Predicted Seed: 1.0\n",
      "Actual Seed: 4.0 , Predicted Seed: 2.0\n",
      "Actual Seed: 3.0 , Predicted Seed: 1.0\n",
      "Actual Seed: 5.0 , Predicted Seed: 1.0\n",
      "Actual Seed: 5.0 , Predicted Seed: 1.0\n",
      "Actual Seed: 4.0 , Predicted Seed: 1.0\n",
      "Actual Seed: 4.0 , Predicted Seed: 2.0\n",
      "Actual Seed: 3.0 , Predicted Seed: 2.0\n",
      "Actual Seed: 6.0 , Predicted Seed: 9.0\n",
      "Actual Seed: 5.0 , Predicted Seed: 5.0\n",
      "Actual Seed: 7.0 , Predicted Seed: 9.0\n",
      "Actual Seed: 8.0 , Predicted Seed: 9.0\n",
      "Actual Seed: 9.0 , Predicted Seed: 5.0\n",
      "Actual Seed: 7.0 , Predicted Seed: 9.0\n",
      "Actual Seed: 3.0 , Predicted Seed: 5.0\n",
      "Actual Seed: 11.0 , Predicted Seed: 9.0\n",
      "Actual Seed: 10.0 , Predicted Seed: 9.0\n",
      "Actual Seed: 6.0 , Predicted Seed: 5.0\n",
      "Actual Seed: 5.0 , Predicted Seed: 9.0\n",
      "Actual Seed: 8.0 , Predicted Seed: 9.0\n",
      "Actual Seed: 9.0 , Predicted Seed: 10.0\n",
      "Actual Seed: 9.0 , Predicted Seed: 9.0\n",
      "Actual Seed: 6.0 , Predicted Seed: 9.0\n",
      "Actual Seed: 10.0 , Predicted Seed: 9.0\n",
      "Actual Seed: 7.0 , Predicted Seed: 9.0\n",
      "Actual Seed: 7.0 , Predicted Seed: 8.0\n",
      "Actual Seed: 10.0 , Predicted Seed: 11.0\n",
      "Actual Seed: 9.0 , Predicted Seed: 8.0\n",
      "Actual Seed: 10.0 , Predicted Seed: 10.0\n",
      "Actual Seed: 6.0 , Predicted Seed: 9.0\n",
      "Actual Seed: 10.0 , Predicted Seed: 10.0\n",
      "Actual Seed: 8.0 , Predicted Seed: 8.0\n",
      "Actual Seed: 11.0 , Predicted Seed: 10.0\n",
      "Actual Seed: 10.0 , Predicted Seed: 11.0\n",
      "Actual Seed: 8.0 , Predicted Seed: 10.0\n",
      "Actual Seed: 11.0 , Predicted Seed: 11.0\n",
      "Actual Seed: 12.0 , Predicted Seed: 12.0\n",
      "Actual Seed: 12.0 , Predicted Seed: 13.0\n",
      "Actual Seed: 11.0 , Predicted Seed: 12.0\n",
      "Actual Seed: 12.0 , Predicted Seed: 13.0\n",
      "Actual Seed: 13.0 , Predicted Seed: 12.0\n",
      "Actual Seed: 13.0 , Predicted Seed: 12.0\n",
      "Actual Seed: 13.0 , Predicted Seed: 13.0\n",
      "Actual Seed: 12.0 , Predicted Seed: 14.0\n",
      "Actual Seed: 13.0 , Predicted Seed: 13.0\n",
      "Actual Seed: 14.0 , Predicted Seed: 14.0\n",
      "Actual Seed: 15.0 , Predicted Seed: 14.0\n",
      "Actual Seed: 14.0 , Predicted Seed: 14.0\n",
      "Actual Seed: 14.0 , Predicted Seed: 14.0\n",
      "Actual Seed: 15.0 , Predicted Seed: 14.0\n",
      "Actual Seed: 14.0 , Predicted Seed: 14.0\n",
      "Actual Seed: 16.0 , Predicted Seed: 16.0\n",
      "Actual Seed: 15.0 , Predicted Seed: 16.0\n",
      "Actual Seed: 16.0 , Predicted Seed: 16.0\n",
      "Actual Seed: 15.0 , Predicted Seed: 16.0\n",
      "Actual Seed: 16.0 , Predicted Seed: 16.0\n",
      "Actual Seed: 16.0 , Predicted Seed: 16.0\n",
      "Actual Seed: 16.0 , Predicted Seed: 16.0\n",
      "Actual Seed: 16.0 , Predicted Seed: 16.0\n",
      "Accuracy: 0.36764705882352944\n",
      "DT Average Distance between Predicted and Actual Seed: 1.1176470588235294\n"
     ]
    }
   ],
   "source": [
    "# Run on cbb24.csv\n",
    "# Load the cbb24 dataset\n",
    "directory = 'march_mad_data'\n",
    "\n",
    "# Load cbb24.csv dataset into a dataframe\n",
    "for filename in os.listdir(directory):\n",
    "    if filename.endswith(\"cbb24.csv\"):\n",
    "        path = os.path.join(directory, filename)\n",
    "        dataframes[filename] = pd.read_csv(path)\n",
    "\n",
    "# Get the cbb24 dataset\n",
    "cbb24_df = dataframes[\"cbb24.csv\"]\n",
    "\n",
    "# Preprocess the cbb24 dataset\n",
    "cbb24_clean_df = cbb24_df.replace(\"N/A\", \"NA\")\n",
    "cbb24_clean_df = cbb24_clean_df.drop(columns=['TEAM'])\n",
    "one_hot_encoded = pd.get_dummies(cbb24_clean_df['CONF'])\n",
    "cbb24_clean_df = cbb24_clean_df.drop(columns=['CONF'])\n",
    "cbb24_clean_df = pd.concat([cbb24_clean_df, one_hot_encoded], axis=1)\n",
    "cbb24_clean_df['WINRATE'] = cbb24_clean_df['W'] / cbb24_clean_df['G']\n",
    "cbb24_clean_df.dropna(inplace=True)\n",
    "\n",
    "# Select the relevant columns for prediction\n",
    "prediction_features = ['WINRATE', 'ADJOE', 'ADJDE', 'EFG_O', 'EFG_D', 'TOR', 'ORB', 'FTRD', '2P_O', '2P_D']\n",
    "\n",
    "# Make predictions using the best model\n",
    "cbb24_predictions = nn_model.predict(cbb24_clean_df[prediction_features])\n",
    "\n",
    "# Get the actual seed values\n",
    "cbb24_actual_seeds = cbb24_clean_df['SEED']\n",
    "\n",
    "# Calculate the accuracy of the predictions\n",
    "cbb24_accuracy = accuracy_score(cbb24_actual_seeds, cbb24_predictions)\n",
    "\n",
    "# Print the predictions vs real and the accuracy\n",
    "for actual_seed, predicted_seed in zip(cbb24_actual_seeds, cbb24_predictions):\n",
    "    print(\"Actual Seed:\", actual_seed, \", Predicted Seed:\", predicted_seed)\n",
    "\n",
    "print(\"Accuracy:\", cbb24_accuracy)\n",
    "\n",
    "# Calculate the absolute difference between predicted and actual seeds\n",
    "cbb24_seed_diff = np.abs(cbb24_actual_seeds - cbb24_predictions)\n",
    "\n",
    "# Calculate the average distance\n",
    "cbb24_average_distance = np.mean(cbb24_seed_diff)\n",
    "\n",
    "print(\"DT Average Distance between Predicted and Actual Seed:\", cbb24_average_distance)"
   ]
  }
 ],
 "metadata": {
  "kernelspec": {
   "display_name": "Python 3",
   "language": "python",
   "name": "python3"
  },
  "language_info": {
   "codemirror_mode": {
    "name": "ipython",
    "version": 3
   },
   "file_extension": ".py",
   "mimetype": "text/x-python",
   "name": "python",
   "nbconvert_exporter": "python",
   "pygments_lexer": "ipython3",
   "version": "3.12.1"
  }
 },
 "nbformat": 4,
 "nbformat_minor": 2
}

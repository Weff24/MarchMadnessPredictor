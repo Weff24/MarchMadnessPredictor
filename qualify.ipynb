{
 "cells": [
  {
   "cell_type": "markdown",
   "metadata": {},
   "source": [
    "### "
   ]
  },
  {
   "cell_type": "code",
   "execution_count": 1,
   "metadata": {},
   "outputs": [],
   "source": [
    "# make env\n",
    "# pip install requests\n",
    "# %pip install pandas\n",
    "# %pip install matplotlib \n",
    "# %pip install -U scikit-learn"
   ]
  },
  {
   "cell_type": "code",
   "execution_count": 28,
   "metadata": {},
   "outputs": [],
   "source": [
    "# Imports\n",
    "import pandas as pd\n",
    "import os\n",
    "import matplotlib.pyplot as plt\n",
    "import numpy as np\n",
    "from sklearn.model_selection import train_test_split\n",
    "from sklearn.ensemble import RandomForestClassifier\n",
    "from sklearn.metrics import accuracy_score\n",
    "from sklearn.neural_network import MLPClassifier\n",
    "from sklearn.tree import DecisionTreeClassifier\n",
    "from IPython.display import display, HTML\n",
    "import math"
   ]
  },
  {
   "cell_type": "markdown",
   "metadata": {},
   "source": [
    "### Load Dataset"
   ]
  },
  {
   "cell_type": "code",
   "execution_count": 63,
   "metadata": {},
   "outputs": [],
   "source": [
    "# Dataset Source: https://www.kaggle.com/datasets/andrewsundberg/college-basketball-dataset?select=cbb13.csv\n",
    "\n",
    "dataframes = {}\n",
    "directory = 'march_mad_data'\n",
    "\n",
    "# Load general cbb.csv dataset into a dataframe\n",
    "for filename in os.listdir(directory):\n",
    "    if filename.endswith(\"cbb.csv\"):\n",
    "        path = os.path.join(directory, filename)\n",
    "        dataframes[filename] = pd.read_csv(path)"
   ]
  },
  {
   "cell_type": "code",
   "execution_count": 64,
   "metadata": {},
   "outputs": [
    {
     "name": "stdout",
     "output_type": "stream",
     "text": [
      "                TEAM  CONF   G   W  ADJOE  ADJDE  BARTHAG  EFG_O  EFG_D   TOR  \\\n",
      "0     North Carolina   ACC  40  33  123.3   94.9   0.9531   52.6   48.1  15.4   \n",
      "1          Wisconsin   B10  40  36  129.1   93.6   0.9758   54.8   47.7  12.4   \n",
      "2           Michigan   B10  40  33  114.4   90.4   0.9375   53.9   47.7  14.0   \n",
      "3         Texas Tech   B12  38  31  115.2   85.2   0.9696   53.5   43.0  17.7   \n",
      "4            Gonzaga   WCC  39  37  117.8   86.3   0.9728   56.6   41.1  16.2   \n",
      "...              ...   ...  ..  ..    ...    ...      ...    ...    ...   ...   \n",
      "3518          Toledo   MAC  34  27  119.9  109.6   0.7369   56.3   52.9  13.6   \n",
      "3519         Liberty  ASun  33  27  111.4   97.3   0.8246   55.5   49.3  16.0   \n",
      "3520     Utah Valley   WAC  34  28  107.1   94.6   0.8065   51.7   44.0  19.3   \n",
      "3521             UAB  CUSA  38  29  112.4   97.0   0.8453   50.3   47.3  17.3   \n",
      "3522     North Texas  CUSA  36  31  110.0   93.8   0.8622   51.2   44.5  19.8   \n",
      "\n",
      "      ...  FTRD  2P_O  2P_D  3P_O  3P_D  ADJ_T   WAB  POSTSEASON  SEED  YEAR  \n",
      "0     ...  30.4  53.9  44.6  32.7  36.2   71.7   8.6         2ND   1.0  2016  \n",
      "1     ...  22.4  54.8  44.7  36.5  37.5   59.3  11.3         2ND   1.0  2015  \n",
      "2     ...  30.0  54.7  46.8  35.2  33.2   65.9   6.9         2ND   3.0  2018  \n",
      "3     ...  36.6  52.8  41.9  36.5  29.7   67.5   7.0         2ND   3.0  2019  \n",
      "4     ...  26.9  56.3  40.0  38.2  29.0   71.5   7.7         2ND   1.0  2017  \n",
      "...   ...   ...   ...   ...   ...   ...    ...   ...         ...   ...   ...  \n",
      "3518  ...  27.5  54.6  52.1  39.7  36.1   69.5  -1.2         NaN   NaN  2023  \n",
      "3519  ...  27.8  56.4  48.6  36.4  33.6   64.4  -2.0         NaN   NaN  2023  \n",
      "3520  ...  28.7  52.5  42.8  33.4  31.1   69.8  -0.3         NaN   NaN  2023  \n",
      "3521  ...  28.9  48.8  47.2  35.6  31.6   70.7  -0.5         NaN   NaN  2023  \n",
      "3522  ...  40.2  49.6  44.2  35.7  30.1   58.7   1.1         NaN   NaN  2023  \n",
      "\n",
      "[3523 rows x 24 columns]\n"
     ]
    }
   ],
   "source": [
    "df = dataframes[\"cbb.csv\"]\n",
    "print(df)"
   ]
  },
  {
   "cell_type": "markdown",
   "metadata": {},
   "source": [
    "### Data Cleaning"
   ]
  },
  {
   "cell_type": "code",
   "execution_count": 65,
   "metadata": {},
   "outputs": [
    {
     "name": "stdout",
     "output_type": "stream",
     "text": [
      "[ 1.  3.  8.  4.  2.  7.  6.  9. 11. 10.  5. nan 16. 12. 13. 14. 15.]\n",
      "number of rows: 3523\n",
      "number of columns: 24\n"
     ]
    }
   ],
   "source": [
    "clean_df = df.replace(\"N/A\", \"NA\")\n",
    "print(df[\"SEED\"].unique())\n",
    "print(f\"number of rows: {len(clean_df)}\")\n",
    "print(f\"number of columns: {len(clean_df.columns)}\")"
   ]
  },
  {
   "cell_type": "code",
   "execution_count": 66,
   "metadata": {},
   "outputs": [
    {
     "name": "stdout",
     "output_type": "stream",
     "text": [
      "Empty DataFrame\n",
      "Columns: [TEAM, CONF, G, W, ADJOE, ADJDE, BARTHAG, EFG_O, EFG_D, TOR, TORD, ORB, DRB, FTR, FTRD, 2P_O, 2P_D, 3P_O, 3P_D, ADJ_T, WAB, POSTSEASON, SEED, YEAR]\n",
      "Index: []\n",
      "\n",
      "[0 rows x 24 columns]\n",
      "0       1\n",
      "1       1\n",
      "2       1\n",
      "3       1\n",
      "4       1\n",
      "       ..\n",
      "3518    0\n",
      "3519    0\n",
      "3520    0\n",
      "3521    0\n",
      "3522    0\n",
      "Name: QUALIFY, Length: 3523, dtype: int64\n"
     ]
    }
   ],
   "source": [
    "# Convert seed data into whether or not a team qualifies (nan vs a seed number)\n",
    "print(clean_df[clean_df[\"SEED\"] < 1])\n",
    "clean_df[\"QUALIFY\"] = clean_df[\"SEED\"].map(lambda x: 0 if math.isnan(x) else 1)\n",
    "print(clean_df[\"QUALIFY\"])"
   ]
  },
  {
   "cell_type": "code",
   "execution_count": 67,
   "metadata": {},
   "outputs": [
    {
     "name": "stdout",
     "output_type": "stream",
     "text": [
      "Number of team datapoints:  3523\n",
      "Number of unqualified teams:  2843\n",
      "Number of qualified teams:  680\n"
     ]
    }
   ],
   "source": [
    "# Check number datapoints that qualify for the tournament and don't qualify for the tournament\n",
    "print(\"Number of team datapoints: \", len(clean_df[\"QUALIFY\"]))\n",
    "print(\"Number of unqualified teams: \", len(clean_df[clean_df[\"QUALIFY\"] == 0])) # Not qualified\n",
    "print(\"Number of qualified teams: \", len(clean_df[clean_df[\"QUALIFY\"] == 1])) # Qualified"
   ]
  },
  {
   "cell_type": "code",
   "execution_count": 68,
   "metadata": {},
   "outputs": [],
   "source": [
    "# Undersample data to balance number of teams that qualify and don't qualify for training\n",
    "smaller_count = len(clean_df[clean_df[\"QUALIFY\"] == 1])\n",
    "class1 = clean_df[clean_df[\"QUALIFY\"] == 0] # Class that is undersampled\n",
    "class1 = class1.sample(smaller_count)\n",
    "class2 = clean_df[clean_df[\"QUALIFY\"] == 1]\n",
    "clean_df = pd.concat([class1, class2],axis=0)"
   ]
  },
  {
   "cell_type": "markdown",
   "metadata": {},
   "source": [
    "# Drop columns we don't want\n"
   ]
  },
  {
   "cell_type": "markdown",
   "metadata": {},
   "source": [
    "### Exploratory Data Analysis (EDA)"
   ]
  },
  {
   "cell_type": "code",
   "execution_count": 69,
   "metadata": {},
   "outputs": [
    {
     "name": "stdout",
     "output_type": "stream",
     "text": [
      "[0 1]\n",
      "1360\n"
     ]
    }
   ],
   "source": [
    "qualify_df = clean_df\n",
    "print(qualify_df[\"QUALIFY\"].unique())\n",
    "print(len(qualify_df))"
   ]
  },
  {
   "cell_type": "code",
   "execution_count": 71,
   "metadata": {},
   "outputs": [],
   "source": [
    "# Get a list of the NCAA men's basketball conferences\n",
    "conferences = qualify_df['CONF'].unique()"
   ]
  },
  {
   "cell_type": "code",
   "execution_count": 73,
   "metadata": {},
   "outputs": [],
   "source": [
    "qualify_df = qualify_df.drop(columns=['TEAM', 'SEED', 'POSTSEASON'])\n",
    "one_hot_encoded = pd.get_dummies(qualify_df['CONF'])\n",
    "qualify_df = qualify_df.drop(columns=['CONF'])\n",
    "qualify_df = pd.concat([qualify_df, one_hot_encoded], axis=1)\n",
    "qualify_df['WINRATE'] = qualify_df['W'] / qualify_df['G']"
   ]
  },
  {
   "cell_type": "code",
   "execution_count": 81,
   "metadata": {},
   "outputs": [
    {
     "name": "stdout",
     "output_type": "stream",
     "text": [
      "34 conferences\n",
      "680 qualifiers\n",
      "B10:  72\n",
      "ACC:  65\n",
      "B12:  65\n",
      "BE:  55\n",
      "SEC:  54\n",
      "P12:  44\n",
      "A10:  30\n",
      "MWC:  26\n",
      "Amer:  25\n",
      "WCC:  19\n",
      "MVC:  14\n",
      "OVC:  11\n",
      "BSth:  11\n",
      "SB:  11\n",
      "SWAC:  10\n",
      "Pat:  10\n",
      "MEAC:  10\n",
      "WAC:  10\n",
      "MAC:  10\n",
      "BW:  10\n",
      "MAAC:  10\n",
      "Slnd:  10\n",
      "CAA:  10\n",
      "CUSA:  10\n",
      "AE:  10\n",
      "BSky:  10\n",
      "Sum:  10\n",
      "SC:  10\n",
      "NEC:  10\n",
      "Horz:  10\n",
      "ASun:  9\n",
      "Ivy:  9\n",
      "Ind:  0\n",
      "ind:  0\n"
     ]
    }
   ],
   "source": [
    "# Compare conference and whether the team qualifies for March Madness (EDA)\n",
    "print(len(conferences), \"conferences\")\n",
    "print(sum(qualify_df[\"QUALIFY\"]), \"qualifiers\")\n",
    "\n",
    "conf_counts = {}\n",
    "for conf in conferences:\n",
    "    conf_counts[conf] = sum(qualify_df.loc[qualify_df[conf] == 1][\"QUALIFY\"])\n",
    "\n",
    "for conf_name, conf_count in sorted(conf_counts.items(), key=lambda item: -item[1]):\n",
    "    print(conf_name + \": \", conf_count)"
   ]
  },
  {
   "cell_type": "code",
   "execution_count": null,
   "metadata": {},
   "outputs": [],
   "source": []
  },
  {
   "cell_type": "code",
   "execution_count": 38,
   "metadata": {},
   "outputs": [
    {
     "data": {
      "text/html": [
       "<table border=\"1\" class=\"dataframe\">\n",
       "  <thead>\n",
       "    <tr style=\"text-align: right;\">\n",
       "      <th></th>\n",
       "      <th>QUALIFY</th>\n",
       "    </tr>\n",
       "  </thead>\n",
       "  <tbody>\n",
       "    <tr>\n",
       "      <th>QUALIFY</th>\n",
       "      <td>1.000000</td>\n",
       "    </tr>\n",
       "    <tr>\n",
       "      <th>WAB</th>\n",
       "      <td>0.734587</td>\n",
       "    </tr>\n",
       "    <tr>\n",
       "      <th>W</th>\n",
       "      <td>0.703946</td>\n",
       "    </tr>\n",
       "    <tr>\n",
       "      <th>WINRATE</th>\n",
       "      <td>0.684266</td>\n",
       "    </tr>\n",
       "    <tr>\n",
       "      <th>BARTHAG</th>\n",
       "      <td>0.682261</td>\n",
       "    </tr>\n",
       "    <tr>\n",
       "      <th>ADJOE</th>\n",
       "      <td>0.619585</td>\n",
       "    </tr>\n",
       "    <tr>\n",
       "      <th>EFG_O</th>\n",
       "      <td>0.436153</td>\n",
       "    </tr>\n",
       "    <tr>\n",
       "      <th>G</th>\n",
       "      <td>0.428350</td>\n",
       "    </tr>\n",
       "    <tr>\n",
       "      <th>2P_O</th>\n",
       "      <td>0.405110</td>\n",
       "    </tr>\n",
       "    <tr>\n",
       "      <th>3P_O</th>\n",
       "      <td>0.324973</td>\n",
       "    </tr>\n",
       "    <tr>\n",
       "      <th>ORB</th>\n",
       "      <td>0.282297</td>\n",
       "    </tr>\n",
       "    <tr>\n",
       "      <th>B12</th>\n",
       "      <td>0.185962</td>\n",
       "    </tr>\n",
       "    <tr>\n",
       "      <th>B10</th>\n",
       "      <td>0.163529</td>\n",
       "    </tr>\n",
       "    <tr>\n",
       "      <th>ACC</th>\n",
       "      <td>0.160318</td>\n",
       "    </tr>\n",
       "    <tr>\n",
       "      <th>FTR</th>\n",
       "      <td>0.134699</td>\n",
       "    </tr>\n",
       "    <tr>\n",
       "      <th>BE</th>\n",
       "      <td>0.120712</td>\n",
       "    </tr>\n",
       "    <tr>\n",
       "      <th>TORD</th>\n",
       "      <td>0.104217</td>\n",
       "    </tr>\n",
       "    <tr>\n",
       "      <th>SEC</th>\n",
       "      <td>0.102438</td>\n",
       "    </tr>\n",
       "    <tr>\n",
       "      <th>P12</th>\n",
       "      <td>0.052541</td>\n",
       "    </tr>\n",
       "    <tr>\n",
       "      <th>Amer</th>\n",
       "      <td>0.043519</td>\n",
       "    </tr>\n",
       "    <tr>\n",
       "      <th>WCC</th>\n",
       "      <td>0.029106</td>\n",
       "    </tr>\n",
       "    <tr>\n",
       "      <th>MWC</th>\n",
       "      <td>0.020127</td>\n",
       "    </tr>\n",
       "    <tr>\n",
       "      <th>YEAR</th>\n",
       "      <td>-0.009545</td>\n",
       "    </tr>\n",
       "    <tr>\n",
       "      <th>A10</th>\n",
       "      <td>-0.013889</td>\n",
       "    </tr>\n",
       "    <tr>\n",
       "      <th>MVC</th>\n",
       "      <td>-0.014780</td>\n",
       "    </tr>\n",
       "    <tr>\n",
       "      <th>GWC</th>\n",
       "      <td>-0.027126</td>\n",
       "    </tr>\n",
       "    <tr>\n",
       "      <th>AE</th>\n",
       "      <td>-0.027369</td>\n",
       "    </tr>\n",
       "    <tr>\n",
       "      <th>Ivy</th>\n",
       "      <td>-0.028513</td>\n",
       "    </tr>\n",
       "    <tr>\n",
       "      <th>ind</th>\n",
       "      <td>-0.038376</td>\n",
       "    </tr>\n",
       "    <tr>\n",
       "      <th>SC</th>\n",
       "      <td>-0.041425</td>\n",
       "    </tr>\n",
       "    <tr>\n",
       "      <th>BSky</th>\n",
       "      <td>-0.041425</td>\n",
       "    </tr>\n",
       "    <tr>\n",
       "      <th>Sum</th>\n",
       "      <td>-0.041425</td>\n",
       "    </tr>\n",
       "    <tr>\n",
       "      <th>Horz</th>\n",
       "      <td>-0.045809</td>\n",
       "    </tr>\n",
       "    <tr>\n",
       "      <th>ASun</th>\n",
       "      <td>-0.047440</td>\n",
       "    </tr>\n",
       "    <tr>\n",
       "      <th>OVC</th>\n",
       "      <td>-0.048509</td>\n",
       "    </tr>\n",
       "    <tr>\n",
       "      <th>Pat</th>\n",
       "      <td>-0.050063</td>\n",
       "    </tr>\n",
       "    <tr>\n",
       "      <th>CAA</th>\n",
       "      <td>-0.054194</td>\n",
       "    </tr>\n",
       "    <tr>\n",
       "      <th>Slnd</th>\n",
       "      <td>-0.058211</td>\n",
       "    </tr>\n",
       "    <tr>\n",
       "      <th>WAC</th>\n",
       "      <td>-0.062123</td>\n",
       "    </tr>\n",
       "    <tr>\n",
       "      <th>NEC</th>\n",
       "      <td>-0.062123</td>\n",
       "    </tr>\n",
       "    <tr>\n",
       "      <th>BSth</th>\n",
       "      <td>-0.067797</td>\n",
       "    </tr>\n",
       "    <tr>\n",
       "      <th>MAAC</th>\n",
       "      <td>-0.069655</td>\n",
       "    </tr>\n",
       "    <tr>\n",
       "      <th>MAC</th>\n",
       "      <td>-0.069655</td>\n",
       "    </tr>\n",
       "    <tr>\n",
       "      <th>BW</th>\n",
       "      <td>-0.069655</td>\n",
       "    </tr>\n",
       "    <tr>\n",
       "      <th>SWAC</th>\n",
       "      <td>-0.073287</td>\n",
       "    </tr>\n",
       "    <tr>\n",
       "      <th>ADJ_T</th>\n",
       "      <td>-0.077746</td>\n",
       "    </tr>\n",
       "    <tr>\n",
       "      <th>CUSA</th>\n",
       "      <td>-0.080309</td>\n",
       "    </tr>\n",
       "    <tr>\n",
       "      <th>MEAC</th>\n",
       "      <td>-0.083709</td>\n",
       "    </tr>\n",
       "    <tr>\n",
       "      <th>SB</th>\n",
       "      <td>-0.100637</td>\n",
       "    </tr>\n",
       "    <tr>\n",
       "      <th>FTRD</th>\n",
       "      <td>-0.222389</td>\n",
       "    </tr>\n",
       "    <tr>\n",
       "      <th>DRB</th>\n",
       "      <td>-0.232492</td>\n",
       "    </tr>\n",
       "    <tr>\n",
       "      <th>TOR</th>\n",
       "      <td>-0.348453</td>\n",
       "    </tr>\n",
       "    <tr>\n",
       "      <th>3P_D</th>\n",
       "      <td>-0.355142</td>\n",
       "    </tr>\n",
       "    <tr>\n",
       "      <th>2P_D</th>\n",
       "      <td>-0.448640</td>\n",
       "    </tr>\n",
       "    <tr>\n",
       "      <th>EFG_D</th>\n",
       "      <td>-0.489259</td>\n",
       "    </tr>\n",
       "    <tr>\n",
       "      <th>ADJDE</th>\n",
       "      <td>-0.585229</td>\n",
       "    </tr>\n",
       "  </tbody>\n",
       "</table>"
      ],
      "text/plain": [
       "<IPython.core.display.HTML object>"
      ]
     },
     "metadata": {},
     "output_type": "display_data"
    }
   ],
   "source": [
    "correlation_table = qualify_df.corr()['QUALIFY']\n",
    "\n",
    "# Sort the correlation table\n",
    "sorted_correlation_table = correlation_table.sort_values(ascending=False)\n",
    "\n",
    "# Display the sorted correlation table with scrollable output\n",
    "display(HTML(sorted_correlation_table.to_frame().to_html()))\n",
    "# print(correlation_table)"
   ]
  },
  {
   "cell_type": "markdown",
   "metadata": {},
   "source": [
    "### EDA Analysis"
   ]
  },
  {
   "cell_type": "code",
   "execution_count": 39,
   "metadata": {},
   "outputs": [],
   "source": [
    "### Team attributes with the highest impact on tournament qualification \n",
    "### (larger magnitude correlations from the correlation table)\n",
    "\n",
    "# WAB = Wins Above Bubble (May not use because bubble/March Madness cutoff is always changing)\n",
    "# W = Wins\n",
    "# BARTHAG = Power Ranking / Chance of beating an average D1 team (May not use because subjective power-ranking)\n",
    "# WINRATE = Wins / Games Played\n",
    "# ADJOE = Adjusted Offensive Efficiency (number of points scored every 100 possessions)\n",
    "# EFG_O = Effective Field Goal Percentage Short\n",
    "# G = Games\n",
    "# 2P_O = 2 Point shooting percentage\n",
    "\n",
    "# ADJDE = Adjusted Defensive Efficiency (number of points allowed every 100 opponent possessions)\n",
    "# EFG_D = Effective Field Goal percentage allowed\n",
    "# 2P_D = 2 Point shooting percentage allowed\n",
    "\n",
    "# B12\n",
    "# ACC\n",
    "# B10"
   ]
  },
  {
   "cell_type": "markdown",
   "metadata": {},
   "source": [
    "### Training Machine Learning Models"
   ]
  },
  {
   "cell_type": "markdown",
   "metadata": {},
   "source": [
    "#### Create data splits"
   ]
  },
  {
   "cell_type": "code",
   "execution_count": 40,
   "metadata": {},
   "outputs": [],
   "source": [
    "# Select the relevant columns for training the model\n",
    "features = ['WINRATE', 'ADJOE', 'ADJDE', 'EFG_O', 'EFG_D', '2P_O', '2P_D']\n",
    "\n",
    "# Split the data into training and testing sets\n",
    "X = qualify_df[features]\n",
    "y = qualify_df['QUALIFY']\n",
    "X_train, X_test, y_train, y_test = train_test_split(X, y, test_size=0.1, random_state=42)"
   ]
  },
  {
   "cell_type": "markdown",
   "metadata": {},
   "source": [
    "#### Decision Tree"
   ]
  },
  {
   "cell_type": "code",
   "execution_count": 41,
   "metadata": {},
   "outputs": [
    {
     "name": "stdout",
     "output_type": "stream",
     "text": [
      "Accuracy: 0.7941176470588235\n"
     ]
    }
   ],
   "source": [
    "# Create a decision tree classifier\n",
    "dt_classifier = DecisionTreeClassifier()\n",
    "\n",
    "# Train the classifier on the training data\n",
    "dt_classifier.fit(X_train, y_train)\n",
    "\n",
    "# Make predictions on the test set\n",
    "y_pred = dt_classifier.predict(X_test)\n",
    "\n",
    "# Calculate the accuracy of the classifier\n",
    "accuracy = accuracy_score(y_test, y_pred)\n",
    "print(\"Accuracy:\", accuracy)"
   ]
  },
  {
   "cell_type": "markdown",
   "metadata": {},
   "source": [
    "#### Random Forest Classifier"
   ]
  },
  {
   "cell_type": "code",
   "execution_count": 42,
   "metadata": {},
   "outputs": [
    {
     "name": "stdout",
     "output_type": "stream",
     "text": [
      "Accuracy: 0.8529411764705882\n"
     ]
    }
   ],
   "source": [
    "# Train the Random Forest model\n",
    "rf_classifier = RandomForestClassifier(n_estimators=200, random_state=42)\n",
    "rf_classifier.fit(X_train, y_train)\n",
    "\n",
    "# Make predictions on the test set\n",
    "y_pred = rf_classifier.predict(X_test)\n",
    "\n",
    "# Evaluate the model\n",
    "accuracy = accuracy_score(y_test, y_pred)\n",
    "print(\"Accuracy:\", accuracy)"
   ]
  },
  {
   "cell_type": "markdown",
   "metadata": {},
   "source": [
    "### Grid Search RF"
   ]
  },
  {
   "cell_type": "code",
   "execution_count": 43,
   "metadata": {},
   "outputs": [
    {
     "name": "stdout",
     "output_type": "stream",
     "text": [
      "Final Random Forest Model Accuracy: 0.8529411764705882\n"
     ]
    }
   ],
   "source": [
    "from sklearn.ensemble import RandomForestClassifier\n",
    "from sklearn.model_selection import GridSearchCV\n",
    "\n",
    "# Define the parameter grid for grid search\n",
    "param_grid = {\n",
    "    'n_estimators': [100, 200, 300],\n",
    "    'max_depth': [None, 5, 10],\n",
    "    'min_samples_split': [2, 5, 10],\n",
    "    'min_samples_leaf': [1, 2, 4]\n",
    "}\n",
    "\n",
    "# Create the random forest classifier\n",
    "rf = RandomForestClassifier()\n",
    "\n",
    "# Create the grid search object\n",
    "grid_search = GridSearchCV(estimator=rf, param_grid=param_grid, cv=5)\n",
    "\n",
    "# Fit the grid search to the training data\n",
    "grid_search.fit(X_train, y_train)\n",
    "\n",
    "# Get the best parameters and best score\n",
    "best_params = grid_search.best_params_\n",
    "best_score = grid_search.best_score_\n",
    "\n",
    "# Use the best parameters to create the final random forest model\n",
    "final_rf = RandomForestClassifier(**best_params)\n",
    "\n",
    "# Fit the final model to the training data\n",
    "final_rf.fit(X_train, y_train)\n",
    "\n",
    "# Evaluate the final model on the test data\n",
    "accuracy = final_rf.score(X_test, y_test)\n",
    "\n",
    "print(\"Final Random Forest Model Accuracy:\", accuracy)"
   ]
  },
  {
   "cell_type": "code",
   "execution_count": 44,
   "metadata": {},
   "outputs": [
    {
     "name": "stdout",
     "output_type": "stream",
     "text": [
      "Final Random Forest Model Accuracy: 0.8529411764705882\n"
     ]
    }
   ],
   "source": [
    "print(\"Final Random Forest Model Accuracy:\", accuracy)"
   ]
  },
  {
   "cell_type": "markdown",
   "metadata": {},
   "source": [
    "#### Neural Network"
   ]
  },
  {
   "cell_type": "code",
   "execution_count": 45,
   "metadata": {},
   "outputs": [
    {
     "name": "stdout",
     "output_type": "stream",
     "text": [
      "Predictions: [0 1 1 1 0 0 1 1 1 1 0 0 0 0 0 0 1 0 1 0 1 1 0 1 0 0 1 1 1 1 1 1 0 1 0 1 1\n",
      " 0 1 1 0 1 1 0 1 1 1 0 0 0 1 0 0 0 1 0 0 0 1 1 0 0 1 1 1 0 0 0 0 1 0 0 0 0\n",
      " 1 1 1 0 0 1 1 1 1 1 1 1 1 0 1 1 0 0 0 0 1 1 1 1 1 1 0 0 1 1 1 0 0 1 1 0 1\n",
      " 0 1 1 1 1 0 0 0 1 0 0 0 0 0 0 1 1 0 1 1 0 1 0 1 1]\n",
      "Accuracy: 0.7941176470588235\n"
     ]
    }
   ],
   "source": [
    "from sklearn.neural_network import MLPClassifier\n",
    "\n",
    "# Create an instance of the MLPClassifier\n",
    "model = MLPClassifier(hidden_layer_sizes=(50, 50, 50), activation='relu', solver='adam', random_state=42)\n",
    "\n",
    "# Train the model\n",
    "model.fit(X_train, y_train)\n",
    "\n",
    "# Make predictions on the test data\n",
    "predictions = model.predict(X_test)\n",
    "\n",
    "# Evaluate the accuracy of the model\n",
    "accuracy = model.score(X_test, y_test)\n",
    "\n",
    "# Print the predictions and accuracy\n",
    "print(\"Predictions:\", predictions)\n",
    "print(\"Accuracy:\", accuracy)"
   ]
  },
  {
   "cell_type": "code",
   "execution_count": 49,
   "metadata": {},
   "outputs": [
    {
     "name": "stdout",
     "output_type": "stream",
     "text": [
      "Actual Qualification: 0 , Predicted Qualification: 0\n",
      "Actual Qualification: 1 , Predicted Qualification: 1\n",
      "Actual Qualification: 1 , Predicted Qualification: 1\n",
      "Actual Qualification: 0 , Predicted Qualification: 0\n",
      "Actual Qualification: 1 , Predicted Qualification: 0\n",
      "Actual Qualification: 0 , Predicted Qualification: 0\n",
      "Actual Qualification: 1 , Predicted Qualification: 0\n",
      "Actual Qualification: 1 , Predicted Qualification: 1\n",
      "Actual Qualification: 1 , Predicted Qualification: 1\n",
      "Actual Qualification: 1 , Predicted Qualification: 1\n",
      "Actual Qualification: 0 , Predicted Qualification: 0\n",
      "Actual Qualification: 0 , Predicted Qualification: 0\n",
      "Actual Qualification: 1 , Predicted Qualification: 0\n",
      "Actual Qualification: 0 , Predicted Qualification: 0\n",
      "Actual Qualification: 0 , Predicted Qualification: 0\n",
      "Actual Qualification: 0 , Predicted Qualification: 0\n",
      "Actual Qualification: 1 , Predicted Qualification: 1\n",
      "Actual Qualification: 0 , Predicted Qualification: 0\n",
      "Actual Qualification: 0 , Predicted Qualification: 0\n",
      "Actual Qualification: 0 , Predicted Qualification: 0\n",
      "Actual Qualification: 0 , Predicted Qualification: 1\n",
      "Actual Qualification: 1 , Predicted Qualification: 1\n",
      "Actual Qualification: 0 , Predicted Qualification: 0\n",
      "Actual Qualification: 1 , Predicted Qualification: 1\n",
      "Actual Qualification: 0 , Predicted Qualification: 0\n",
      "Actual Qualification: 0 , Predicted Qualification: 0\n",
      "Actual Qualification: 1 , Predicted Qualification: 1\n",
      "Actual Qualification: 0 , Predicted Qualification: 0\n",
      "Actual Qualification: 1 , Predicted Qualification: 1\n",
      "Actual Qualification: 1 , Predicted Qualification: 1\n",
      "Actual Qualification: 1 , Predicted Qualification: 1\n",
      "Actual Qualification: 1 , Predicted Qualification: 1\n",
      "Actual Qualification: 0 , Predicted Qualification: 0\n",
      "Actual Qualification: 0 , Predicted Qualification: 0\n",
      "Actual Qualification: 0 , Predicted Qualification: 0\n",
      "Actual Qualification: 1 , Predicted Qualification: 0\n",
      "Actual Qualification: 1 , Predicted Qualification: 1\n",
      "Actual Qualification: 1 , Predicted Qualification: 0\n",
      "Actual Qualification: 1 , Predicted Qualification: 1\n",
      "Actual Qualification: 0 , Predicted Qualification: 1\n",
      "Actual Qualification: 1 , Predicted Qualification: 0\n",
      "Actual Qualification: 0 , Predicted Qualification: 0\n",
      "Actual Qualification: 1 , Predicted Qualification: 1\n",
      "Actual Qualification: 0 , Predicted Qualification: 0\n",
      "Actual Qualification: 0 , Predicted Qualification: 0\n",
      "Actual Qualification: 1 , Predicted Qualification: 1\n",
      "Actual Qualification: 1 , Predicted Qualification: 1\n",
      "Actual Qualification: 0 , Predicted Qualification: 0\n",
      "Actual Qualification: 0 , Predicted Qualification: 0\n",
      "Actual Qualification: 0 , Predicted Qualification: 0\n",
      "Actual Qualification: 1 , Predicted Qualification: 1\n",
      "Actual Qualification: 0 , Predicted Qualification: 0\n",
      "Actual Qualification: 0 , Predicted Qualification: 0\n",
      "Actual Qualification: 0 , Predicted Qualification: 0\n",
      "Actual Qualification: 1 , Predicted Qualification: 1\n",
      "Actual Qualification: 0 , Predicted Qualification: 0\n",
      "Actual Qualification: 0 , Predicted Qualification: 0\n",
      "Actual Qualification: 1 , Predicted Qualification: 0\n",
      "Actual Qualification: 1 , Predicted Qualification: 1\n",
      "Actual Qualification: 0 , Predicted Qualification: 0\n",
      "Actual Qualification: 0 , Predicted Qualification: 0\n",
      "Actual Qualification: 0 , Predicted Qualification: 1\n",
      "Actual Qualification: 0 , Predicted Qualification: 0\n",
      "Actual Qualification: 1 , Predicted Qualification: 1\n",
      "Actual Qualification: 1 , Predicted Qualification: 1\n",
      "Actual Qualification: 0 , Predicted Qualification: 0\n",
      "Actual Qualification: 0 , Predicted Qualification: 0\n",
      "Actual Qualification: 0 , Predicted Qualification: 0\n",
      "Actual Qualification: 0 , Predicted Qualification: 0\n",
      "Actual Qualification: 1 , Predicted Qualification: 1\n",
      "Actual Qualification: 1 , Predicted Qualification: 0\n",
      "Actual Qualification: 0 , Predicted Qualification: 1\n",
      "Actual Qualification: 0 , Predicted Qualification: 0\n",
      "Actual Qualification: 0 , Predicted Qualification: 0\n",
      "Actual Qualification: 1 , Predicted Qualification: 1\n",
      "Actual Qualification: 1 , Predicted Qualification: 1\n",
      "Actual Qualification: 1 , Predicted Qualification: 1\n",
      "Actual Qualification: 0 , Predicted Qualification: 0\n",
      "Actual Qualification: 0 , Predicted Qualification: 0\n",
      "Actual Qualification: 1 , Predicted Qualification: 1\n",
      "Actual Qualification: 1 , Predicted Qualification: 1\n",
      "Actual Qualification: 1 , Predicted Qualification: 1\n",
      "Actual Qualification: 1 , Predicted Qualification: 1\n",
      "Actual Qualification: 1 , Predicted Qualification: 1\n",
      "Actual Qualification: 1 , Predicted Qualification: 1\n",
      "Actual Qualification: 1 , Predicted Qualification: 1\n",
      "Actual Qualification: 1 , Predicted Qualification: 1\n",
      "Actual Qualification: 1 , Predicted Qualification: 1\n",
      "Actual Qualification: 1 , Predicted Qualification: 1\n",
      "Actual Qualification: 1 , Predicted Qualification: 1\n",
      "Actual Qualification: 0 , Predicted Qualification: 0\n",
      "Actual Qualification: 0 , Predicted Qualification: 0\n",
      "Actual Qualification: 0 , Predicted Qualification: 0\n",
      "Actual Qualification: 0 , Predicted Qualification: 1\n",
      "Actual Qualification: 1 , Predicted Qualification: 1\n",
      "Actual Qualification: 0 , Predicted Qualification: 0\n",
      "Actual Qualification: 1 , Predicted Qualification: 1\n",
      "Actual Qualification: 1 , Predicted Qualification: 1\n",
      "Actual Qualification: 1 , Predicted Qualification: 1\n",
      "Actual Qualification: 1 , Predicted Qualification: 0\n",
      "Actual Qualification: 0 , Predicted Qualification: 0\n",
      "Actual Qualification: 1 , Predicted Qualification: 0\n",
      "Actual Qualification: 0 , Predicted Qualification: 1\n",
      "Actual Qualification: 1 , Predicted Qualification: 1\n",
      "Actual Qualification: 1 , Predicted Qualification: 1\n",
      "Actual Qualification: 0 , Predicted Qualification: 0\n",
      "Actual Qualification: 0 , Predicted Qualification: 0\n",
      "Actual Qualification: 1 , Predicted Qualification: 1\n",
      "Actual Qualification: 0 , Predicted Qualification: 0\n",
      "Actual Qualification: 0 , Predicted Qualification: 0\n",
      "Actual Qualification: 1 , Predicted Qualification: 1\n",
      "Actual Qualification: 0 , Predicted Qualification: 0\n",
      "Actual Qualification: 1 , Predicted Qualification: 1\n",
      "Actual Qualification: 1 , Predicted Qualification: 1\n",
      "Actual Qualification: 1 , Predicted Qualification: 1\n",
      "Actual Qualification: 0 , Predicted Qualification: 1\n",
      "Actual Qualification: 0 , Predicted Qualification: 0\n",
      "Actual Qualification: 0 , Predicted Qualification: 0\n",
      "Actual Qualification: 0 , Predicted Qualification: 0\n",
      "Actual Qualification: 1 , Predicted Qualification: 1\n",
      "Actual Qualification: 1 , Predicted Qualification: 1\n",
      "Actual Qualification: 0 , Predicted Qualification: 0\n",
      "Actual Qualification: 0 , Predicted Qualification: 0\n",
      "Actual Qualification: 0 , Predicted Qualification: 0\n",
      "Actual Qualification: 0 , Predicted Qualification: 0\n",
      "Actual Qualification: 1 , Predicted Qualification: 0\n",
      "Actual Qualification: 1 , Predicted Qualification: 1\n",
      "Actual Qualification: 1 , Predicted Qualification: 1\n",
      "Actual Qualification: 0 , Predicted Qualification: 0\n",
      "Actual Qualification: 0 , Predicted Qualification: 1\n",
      "Actual Qualification: 1 , Predicted Qualification: 1\n",
      "Actual Qualification: 0 , Predicted Qualification: 0\n",
      "Actual Qualification: 0 , Predicted Qualification: 0\n",
      "Actual Qualification: 0 , Predicted Qualification: 0\n",
      "Actual Qualification: 0 , Predicted Qualification: 0\n",
      "Actual Qualification: 0 , Predicted Qualification: 1\n"
     ]
    }
   ],
   "source": [
    "# Print actual vs predicted qualification to check how accurate the predictions are\n",
    "# model = dt_classifier # Change to whatever model you want to use\n",
    "model = rf_classifier \n",
    "\n",
    "actual_qualifications = qualify_df.loc[X_test.index]['QUALIFY']\n",
    "predicted_qualifications = model.predict(X_test)\n",
    "for actual_qualification, predicted_qualification in zip(actual_qualifications, predicted_qualifications):\n",
    "    print(\"Actual Qualification:\", actual_qualification, \", Predicted Qualification:\", predicted_qualification)"
   ]
  }
 ],
 "metadata": {
  "kernelspec": {
   "display_name": "Python 3",
   "language": "python",
   "name": "python3"
  },
  "language_info": {
   "codemirror_mode": {
    "name": "ipython",
    "version": 3
   },
   "file_extension": ".py",
   "mimetype": "text/x-python",
   "name": "python",
   "nbconvert_exporter": "python",
   "pygments_lexer": "ipython3",
   "version": "3.9.7"
  }
 },
 "nbformat": 4,
 "nbformat_minor": 2
}

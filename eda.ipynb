{
 "cells": [
  {
   "cell_type": "markdown",
   "metadata": {},
   "source": [
    "### "
   ]
  },
  {
   "cell_type": "code",
   "execution_count": 63,
   "metadata": {},
   "outputs": [
    {
     "name": "stdout",
     "output_type": "stream",
     "text": [
      "Note: you may need to restart the kernel to use updated packages.\n"
     ]
    },
    {
     "name": "stderr",
     "output_type": "stream",
     "text": [
      "ERROR: Invalid requirement: 'matplotlib#'\n",
      "\n",
      "[notice] A new release of pip is available: 23.2.1 -> 24.0\n",
      "[notice] To update, run: python.exe -m pip install --upgrade pip\n"
     ]
    },
    {
     "name": "stdout",
     "output_type": "stream",
     "text": [
      "Collecting scikit-learn\n",
      "  Obtaining dependency information for scikit-learn from https://files.pythonhosted.org/packages/40/77/91f92b2fddbd14201bf36cd0c0e7279f1501a88e7a00ef11261c4b95bb7a/scikit_learn-1.4.2-cp312-cp312-win_amd64.whl.metadata\n",
      "  Downloading scikit_learn-1.4.2-cp312-cp312-win_amd64.whl.metadata (11 kB)\n",
      "Requirement already satisfied: numpy>=1.19.5 in c:\\users\\seand\\appdata\\local\\programs\\python\\python312\\lib\\site-packages (from scikit-learn) (1.26.4)\n",
      "Collecting scipy>=1.6.0 (from scikit-learn)\n",
      "  Obtaining dependency information for scipy>=1.6.0 from https://files.pythonhosted.org/packages/ed/6f/ba2b2f14391291dd47d17da78c3ee644fb3a2fd6bddde664381c1968eda9/scipy-1.13.0-cp312-cp312-win_amd64.whl.metadata\n",
      "  Downloading scipy-1.13.0-cp312-cp312-win_amd64.whl.metadata (60 kB)\n",
      "     ---------------------------------------- 0.0/60.6 kB ? eta -:--:--\n",
      "     ------ --------------------------------- 10.2/60.6 kB ? eta -:--:--\n",
      "     -------------------------------- ----- 51.2/60.6 kB 650.2 kB/s eta 0:00:01\n",
      "     -------------------------------------- 60.6/60.6 kB 645.4 kB/s eta 0:00:00\n",
      "Collecting joblib>=1.2.0 (from scikit-learn)\n",
      "  Obtaining dependency information for joblib>=1.2.0 from https://files.pythonhosted.org/packages/91/29/df4b9b42f2be0b623cbd5e2140cafcaa2bef0759a00b7b70104dcfe2fb51/joblib-1.4.2-py3-none-any.whl.metadata\n",
      "  Downloading joblib-1.4.2-py3-none-any.whl.metadata (5.4 kB)\n",
      "Collecting threadpoolctl>=2.0.0 (from scikit-learn)\n",
      "  Obtaining dependency information for threadpoolctl>=2.0.0 from https://files.pythonhosted.org/packages/4b/2c/ffbf7a134b9ab11a67b0cf0726453cedd9c5043a4fe7a35d1cefa9a1bcfb/threadpoolctl-3.5.0-py3-none-any.whl.metadata\n",
      "  Downloading threadpoolctl-3.5.0-py3-none-any.whl.metadata (13 kB)\n",
      "Downloading scikit_learn-1.4.2-cp312-cp312-win_amd64.whl (10.6 MB)\n",
      "   ---------------------------------------- 0.0/10.6 MB ? eta -:--:--\n",
      "   - -------------------------------------- 0.3/10.6 MB 10.2 MB/s eta 0:00:02\n",
      "   --- ------------------------------------ 0.9/10.6 MB 11.9 MB/s eta 0:00:01\n",
      "   ------ --------------------------------- 1.7/10.6 MB 13.2 MB/s eta 0:00:01\n",
      "   -------- ------------------------------- 2.3/10.6 MB 13.0 MB/s eta 0:00:01\n",
      "   ----------- ---------------------------- 2.9/10.6 MB 14.4 MB/s eta 0:00:01\n",
      "   ------------- -------------------------- 3.7/10.6 MB 13.8 MB/s eta 0:00:01\n",
      "   ---------------- ----------------------- 4.4/10.6 MB 14.7 MB/s eta 0:00:01\n",
      "   ------------------- -------------------- 5.1/10.6 MB 14.2 MB/s eta 0:00:01\n",
      "   --------------------- ------------------ 5.8/10.6 MB 14.2 MB/s eta 0:00:01\n",
      "   ------------------------ --------------- 6.4/10.6 MB 14.6 MB/s eta 0:00:01\n",
      "   -------------------------- ------------- 7.1/10.6 MB 14.6 MB/s eta 0:00:01\n",
      "   ----------------------------- ---------- 7.8/10.6 MB 15.1 MB/s eta 0:00:01\n",
      "   ------------------------------- -------- 8.4/10.6 MB 14.4 MB/s eta 0:00:01\n",
      "   --------------------------------- ------ 8.8/10.6 MB 14.1 MB/s eta 0:00:01\n",
      "   ------------------------------------ --- 9.6/10.6 MB 14.3 MB/s eta 0:00:01\n",
      "   -------------------------------------- - 10.3/10.6 MB 14.9 MB/s eta 0:00:01\n",
      "   ---------------------------------------  10.6/10.6 MB 14.6 MB/s eta 0:00:01\n",
      "   ---------------------------------------- 10.6/10.6 MB 13.6 MB/s eta 0:00:00\n",
      "Downloading joblib-1.4.2-py3-none-any.whl (301 kB)\n",
      "   ---------------------------------------- 0.0/301.8 kB ? eta -:--:--\n",
      "   --------------------------------------- 301.8/301.8 kB 18.2 MB/s eta 0:00:00\n",
      "Downloading scipy-1.13.0-cp312-cp312-win_amd64.whl (45.9 MB)\n",
      "   ---------------------------------------- 0.0/45.9 MB ? eta -:--:--\n",
      "    --------------------------------------- 0.7/45.9 MB 21.8 MB/s eta 0:00:03\n",
      "    --------------------------------------- 1.1/45.9 MB 14.3 MB/s eta 0:00:04\n",
      "   - -------------------------------------- 1.8/45.9 MB 12.4 MB/s eta 0:00:04\n",
      "   - -------------------------------------- 2.3/45.9 MB 13.3 MB/s eta 0:00:04\n",
      "   -- ------------------------------------- 2.8/45.9 MB 12.9 MB/s eta 0:00:04\n",
      "   -- ------------------------------------- 3.2/45.9 MB 12.9 MB/s eta 0:00:04\n",
      "   --- ------------------------------------ 3.8/45.9 MB 12.6 MB/s eta 0:00:04\n",
      "   --- ------------------------------------ 4.5/45.9 MB 12.9 MB/s eta 0:00:04\n",
      "   ---- ----------------------------------- 5.1/45.9 MB 13.1 MB/s eta 0:00:04\n",
      "   ----- ---------------------------------- 5.9/45.9 MB 13.4 MB/s eta 0:00:03\n",
      "   ----- ---------------------------------- 6.6/45.9 MB 14.1 MB/s eta 0:00:03\n",
      "   ------ --------------------------------- 7.4/45.9 MB 14.0 MB/s eta 0:00:03\n",
      "   ------- -------------------------------- 8.1/45.9 MB 14.4 MB/s eta 0:00:03\n",
      "   ------- -------------------------------- 9.0/45.9 MB 14.7 MB/s eta 0:00:03\n",
      "   -------- ------------------------------- 9.9/45.9 MB 15.0 MB/s eta 0:00:03\n",
      "   --------- ------------------------------ 10.5/45.9 MB 14.9 MB/s eta 0:00:03\n",
      "   --------- ------------------------------ 11.3/45.9 MB 15.6 MB/s eta 0:00:03\n",
      "   ---------- ----------------------------- 12.2/45.9 MB 16.0 MB/s eta 0:00:03\n",
      "   ----------- ---------------------------- 13.2/45.9 MB 16.8 MB/s eta 0:00:02\n",
      "   ------------ --------------------------- 14.3/45.9 MB 18.7 MB/s eta 0:00:02\n",
      "   ------------- -------------------------- 15.4/45.9 MB 19.3 MB/s eta 0:00:02\n",
      "   -------------- ------------------------- 16.4/45.9 MB 19.8 MB/s eta 0:00:02\n",
      "   --------------- ------------------------ 17.5/45.9 MB 21.1 MB/s eta 0:00:02\n",
      "   ---------------- ----------------------- 18.7/45.9 MB 21.8 MB/s eta 0:00:02\n",
      "   ----------------- ---------------------- 19.8/45.9 MB 22.6 MB/s eta 0:00:02\n",
      "   ------------------ --------------------- 21.0/45.9 MB 23.4 MB/s eta 0:00:02\n",
      "   ------------------ --------------------- 21.7/45.9 MB 23.4 MB/s eta 0:00:02\n",
      "   -------------------- ------------------- 23.0/45.9 MB 24.3 MB/s eta 0:00:01\n",
      "   --------------------- ------------------ 24.3/45.9 MB 26.2 MB/s eta 0:00:01\n",
      "   --------------------- ------------------ 25.0/45.9 MB 23.4 MB/s eta 0:00:01\n",
      "   ---------------------- ----------------- 26.4/45.9 MB 24.2 MB/s eta 0:00:01\n",
      "   ------------------------ --------------- 27.7/45.9 MB 24.2 MB/s eta 0:00:01\n",
      "   ------------------------- -------------- 28.8/45.9 MB 24.2 MB/s eta 0:00:01\n",
      "   -------------------------- ------------- 30.0/45.9 MB 24.2 MB/s eta 0:00:01\n",
      "   --------------------------- ------------ 31.4/45.9 MB 25.1 MB/s eta 0:00:01\n",
      "   ---------------------------- ----------- 32.9/45.9 MB 27.3 MB/s eta 0:00:01\n",
      "   ------------------------------ --------- 34.6/45.9 MB 28.4 MB/s eta 0:00:01\n",
      "   ------------------------------- -------- 35.6/45.9 MB 29.7 MB/s eta 0:00:01\n",
      "   ------------------------------- -------- 36.4/45.9 MB 27.3 MB/s eta 0:00:01\n",
      "   -------------------------------- ------- 37.2/45.9 MB 27.3 MB/s eta 0:00:01\n",
      "   --------------------------------- ------ 38.2/45.9 MB 27.3 MB/s eta 0:00:01\n",
      "   ---------------------------------- ----- 39.6/45.9 MB 27.3 MB/s eta 0:00:01\n",
      "   ----------------------------------- ---- 40.9/45.9 MB 28.4 MB/s eta 0:00:01\n",
      "   ------------------------------------ --- 42.4/45.9 MB 27.3 MB/s eta 0:00:01\n",
      "   -------------------------------------- - 43.7/45.9 MB 26.2 MB/s eta 0:00:01\n",
      "   ---------------------------------------  45.1/45.9 MB 27.3 MB/s eta 0:00:01\n",
      "   ---------------------------------------  45.9/45.9 MB 26.2 MB/s eta 0:00:01\n",
      "   ---------------------------------------  45.9/45.9 MB 26.2 MB/s eta 0:00:01\n",
      "   ---------------------------------------  45.9/45.9 MB 26.2 MB/s eta 0:00:01\n",
      "   ---------------------------------------- 45.9/45.9 MB 15.6 MB/s eta 0:00:00\n",
      "Downloading threadpoolctl-3.5.0-py3-none-any.whl (18 kB)\n",
      "Installing collected packages: threadpoolctl, scipy, joblib, scikit-learn\n",
      "Successfully installed joblib-1.4.2 scikit-learn-1.4.2 scipy-1.13.0 threadpoolctl-3.5.0\n",
      "Note: you may need to restart the kernel to use updated packages.\n"
     ]
    },
    {
     "name": "stderr",
     "output_type": "stream",
     "text": [
      "\n",
      "[notice] A new release of pip is available: 23.2.1 -> 24.0\n",
      "[notice] To update, run: python.exe -m pip install --upgrade pip\n"
     ]
    }
   ],
   "source": [
    "# make env\n",
    "# pip install requests\n",
    "# %pip install pandas\n",
    "# %pip install matplotlib \n",
    "# %pip install -U scikit-learn"
   ]
  },
  {
   "cell_type": "code",
   "execution_count": 66,
   "metadata": {},
   "outputs": [],
   "source": [
    "# Imports\n",
    "import pandas as pd\n",
    "import os\n",
    "import matplotlib.pyplot as plt\n",
    "from sklearn.model_selection import train_test_split\n",
    "from sklearn.ensemble import RandomForestClassifier\n",
    "from sklearn.metrics import accuracy_score"
   ]
  },
  {
   "cell_type": "markdown",
   "metadata": {},
   "source": [
    "### Load Dataset"
   ]
  },
  {
   "cell_type": "code",
   "execution_count": 67,
   "metadata": {},
   "outputs": [],
   "source": [
    "dataframes = {}\n",
    "directory = 'march_mad_data'\n",
    "\n",
    "# Load general cbb.csv dataset into a dataframe\n",
    "for filename in os.listdir(directory):\n",
    "    if filename.endswith(\"cbb.csv\"):\n",
    "        path = os.path.join(directory, filename)\n",
    "        dataframes[filename] = pd.read_csv(path)"
   ]
  },
  {
   "cell_type": "code",
   "execution_count": 68,
   "metadata": {},
   "outputs": [
    {
     "name": "stdout",
     "output_type": "stream",
     "text": [
      "                TEAM  CONF   G   W  ADJOE  ADJDE  BARTHAG  EFG_O  EFG_D   TOR  \\\n",
      "0     North Carolina   ACC  40  33  123.3   94.9   0.9531   52.6   48.1  15.4   \n",
      "1          Wisconsin   B10  40  36  129.1   93.6   0.9758   54.8   47.7  12.4   \n",
      "2           Michigan   B10  40  33  114.4   90.4   0.9375   53.9   47.7  14.0   \n",
      "3         Texas Tech   B12  38  31  115.2   85.2   0.9696   53.5   43.0  17.7   \n",
      "4            Gonzaga   WCC  39  37  117.8   86.3   0.9728   56.6   41.1  16.2   \n",
      "...              ...   ...  ..  ..    ...    ...      ...    ...    ...   ...   \n",
      "3518          Toledo   MAC  34  27  119.9  109.6   0.7369   56.3   52.9  13.6   \n",
      "3519         Liberty  ASun  33  27  111.4   97.3   0.8246   55.5   49.3  16.0   \n",
      "3520     Utah Valley   WAC  34  28  107.1   94.6   0.8065   51.7   44.0  19.3   \n",
      "3521             UAB  CUSA  38  29  112.4   97.0   0.8453   50.3   47.3  17.3   \n",
      "3522     North Texas  CUSA  36  31  110.0   93.8   0.8622   51.2   44.5  19.8   \n",
      "\n",
      "      ...  FTRD  2P_O  2P_D  3P_O  3P_D  ADJ_T   WAB  POSTSEASON  SEED  YEAR  \n",
      "0     ...  30.4  53.9  44.6  32.7  36.2   71.7   8.6         2ND   1.0  2016  \n",
      "1     ...  22.4  54.8  44.7  36.5  37.5   59.3  11.3         2ND   1.0  2015  \n",
      "2     ...  30.0  54.7  46.8  35.2  33.2   65.9   6.9         2ND   3.0  2018  \n",
      "3     ...  36.6  52.8  41.9  36.5  29.7   67.5   7.0         2ND   3.0  2019  \n",
      "4     ...  26.9  56.3  40.0  38.2  29.0   71.5   7.7         2ND   1.0  2017  \n",
      "...   ...   ...   ...   ...   ...   ...    ...   ...         ...   ...   ...  \n",
      "3518  ...  27.5  54.6  52.1  39.7  36.1   69.5  -1.2         NaN   NaN  2023  \n",
      "3519  ...  27.8  56.4  48.6  36.4  33.6   64.4  -2.0         NaN   NaN  2023  \n",
      "3520  ...  28.7  52.5  42.8  33.4  31.1   69.8  -0.3         NaN   NaN  2023  \n",
      "3521  ...  28.9  48.8  47.2  35.6  31.6   70.7  -0.5         NaN   NaN  2023  \n",
      "3522  ...  40.2  49.6  44.2  35.7  30.1   58.7   1.1         NaN   NaN  2023  \n",
      "\n",
      "[3523 rows x 24 columns]\n"
     ]
    }
   ],
   "source": [
    "df = dataframes[\"cbb.csv\"]\n",
    "print(df)"
   ]
  },
  {
   "cell_type": "markdown",
   "metadata": {},
   "source": [
    "### Data Cleaning"
   ]
  },
  {
   "cell_type": "code",
   "execution_count": 69,
   "metadata": {},
   "outputs": [
    {
     "name": "stdout",
     "output_type": "stream",
     "text": [
      "[ 1.  3.  8.  4.  2.  7.  6.  9. 11. 10.  5. nan 16. 12. 13. 14. 15.]\n",
      "number of rows: 3523\n",
      "number of columns: 24\n"
     ]
    }
   ],
   "source": [
    "clean_df = df.replace(\"N/A\", \"NA\")\n",
    "print(df[\"SEED\"].unique())\n",
    "print(f\"number of rows: {len(clean_df)}\")\n",
    "print(f\"number of columns: {len(clean_df.columns)}\")"
   ]
  },
  {
   "cell_type": "markdown",
   "metadata": {},
   "source": [
    "# Drop columns we don't want\n"
   ]
  },
  {
   "cell_type": "markdown",
   "metadata": {},
   "source": [
    "### Exploratory Data Analysis (EDA)"
   ]
  },
  {
   "cell_type": "code",
   "execution_count": 70,
   "metadata": {},
   "outputs": [
    {
     "name": "stdout",
     "output_type": "stream",
     "text": [
      "[ 1.  3.  8.  4.  2.  7.  6.  9. 11. 10.  5. 16. 12. 13. 14. 15.]\n",
      "680\n"
     ]
    }
   ],
   "source": [
    "seed_df = clean_df.dropna()\n",
    "print(seed_df[\"SEED\"].unique())\n",
    "print(len(seed_df))"
   ]
  },
  {
   "cell_type": "code",
   "execution_count": 71,
   "metadata": {},
   "outputs": [],
   "source": [
    "seed_df = seed_df.drop(columns=['TEAM', 'POSTSEASON'])\n",
    "one_hot_encoded = pd.get_dummies(seed_df['CONF'])\n",
    "seed_df = seed_df.drop(columns=['CONF'])\n",
    "seed_df = pd.concat([seed_df, one_hot_encoded], axis=1)"
   ]
  },
  {
   "cell_type": "code",
   "execution_count": 115,
   "metadata": {},
   "outputs": [],
   "source": [
    "# Compare conference and whether the team qualifies for March Madness (EDA) !!!!!!!!!!!!!!!!!!!!!"
   ]
  },
  {
   "cell_type": "code",
   "execution_count": null,
   "metadata": {},
   "outputs": [],
   "source": []
  },
  {
   "cell_type": "code",
   "execution_count": 72,
   "metadata": {},
   "outputs": [
    {
     "data": {
      "text/html": [
       "<table border=\"1\" class=\"dataframe\">\n",
       "  <thead>\n",
       "    <tr style=\"text-align: right;\">\n",
       "      <th></th>\n",
       "      <th>SEED</th>\n",
       "    </tr>\n",
       "  </thead>\n",
       "  <tbody>\n",
       "    <tr>\n",
       "      <th>SEED</th>\n",
       "      <td>1.000000</td>\n",
       "    </tr>\n",
       "    <tr>\n",
       "      <th>ADJDE</th>\n",
       "      <td>0.690730</td>\n",
       "    </tr>\n",
       "    <tr>\n",
       "      <th>2P_D</th>\n",
       "      <td>0.369974</td>\n",
       "    </tr>\n",
       "    <tr>\n",
       "      <th>EFG_D</th>\n",
       "      <td>0.367349</td>\n",
       "    </tr>\n",
       "    <tr>\n",
       "      <th>TOR</th>\n",
       "      <td>0.266311</td>\n",
       "    </tr>\n",
       "    <tr>\n",
       "      <th>FTRD</th>\n",
       "      <td>0.214671</td>\n",
       "    </tr>\n",
       "    <tr>\n",
       "      <th>NEC</th>\n",
       "      <td>0.188316</td>\n",
       "    </tr>\n",
       "    <tr>\n",
       "      <th>SWAC</th>\n",
       "      <td>0.185700</td>\n",
       "    </tr>\n",
       "    <tr>\n",
       "      <th>MEAC</th>\n",
       "      <td>0.183084</td>\n",
       "    </tr>\n",
       "    <tr>\n",
       "      <th>BSth</th>\n",
       "      <td>0.160213</td>\n",
       "    </tr>\n",
       "    <tr>\n",
       "      <th>3P_D</th>\n",
       "      <td>0.159121</td>\n",
       "    </tr>\n",
       "    <tr>\n",
       "      <th>Horz</th>\n",
       "      <td>0.151692</td>\n",
       "    </tr>\n",
       "    <tr>\n",
       "      <th>MAAC</th>\n",
       "      <td>0.149076</td>\n",
       "    </tr>\n",
       "    <tr>\n",
       "      <th>SB</th>\n",
       "      <td>0.147732</td>\n",
       "    </tr>\n",
       "    <tr>\n",
       "      <th>AE</th>\n",
       "      <td>0.146459</td>\n",
       "    </tr>\n",
       "    <tr>\n",
       "      <th>ASun</th>\n",
       "      <td>0.145453</td>\n",
       "    </tr>\n",
       "    <tr>\n",
       "      <th>BSky</th>\n",
       "      <td>0.143843</td>\n",
       "    </tr>\n",
       "    <tr>\n",
       "      <th>Pat</th>\n",
       "      <td>0.143843</td>\n",
       "    </tr>\n",
       "    <tr>\n",
       "      <th>Slnd</th>\n",
       "      <td>0.143843</td>\n",
       "    </tr>\n",
       "    <tr>\n",
       "      <th>BW</th>\n",
       "      <td>0.141227</td>\n",
       "    </tr>\n",
       "    <tr>\n",
       "      <th>CAA</th>\n",
       "      <td>0.128147</td>\n",
       "    </tr>\n",
       "    <tr>\n",
       "      <th>Sum</th>\n",
       "      <td>0.125531</td>\n",
       "    </tr>\n",
       "    <tr>\n",
       "      <th>WAC</th>\n",
       "      <td>0.122915</td>\n",
       "    </tr>\n",
       "    <tr>\n",
       "      <th>Ivy</th>\n",
       "      <td>0.117898</td>\n",
       "    </tr>\n",
       "    <tr>\n",
       "      <th>OVC</th>\n",
       "      <td>0.117778</td>\n",
       "    </tr>\n",
       "    <tr>\n",
       "      <th>SC</th>\n",
       "      <td>0.096755</td>\n",
       "    </tr>\n",
       "    <tr>\n",
       "      <th>MAC</th>\n",
       "      <td>0.094139</td>\n",
       "    </tr>\n",
       "    <tr>\n",
       "      <th>DRB</th>\n",
       "      <td>0.092929</td>\n",
       "    </tr>\n",
       "    <tr>\n",
       "      <th>CUSA</th>\n",
       "      <td>0.086291</td>\n",
       "    </tr>\n",
       "    <tr>\n",
       "      <th>FTR</th>\n",
       "      <td>0.083382</td>\n",
       "    </tr>\n",
       "    <tr>\n",
       "      <th>ADJ_T</th>\n",
       "      <td>0.013694</td>\n",
       "    </tr>\n",
       "    <tr>\n",
       "      <th>MVC</th>\n",
       "      <td>0.010599</td>\n",
       "    </tr>\n",
       "    <tr>\n",
       "      <th>A10</th>\n",
       "      <td>0.009133</td>\n",
       "    </tr>\n",
       "    <tr>\n",
       "      <th>YEAR</th>\n",
       "      <td>-0.001454</td>\n",
       "    </tr>\n",
       "    <tr>\n",
       "      <th>TORD</th>\n",
       "      <td>-0.002099</td>\n",
       "    </tr>\n",
       "    <tr>\n",
       "      <th>MWC</th>\n",
       "      <td>-0.007945</td>\n",
       "    </tr>\n",
       "    <tr>\n",
       "      <th>Amer</th>\n",
       "      <td>-0.088750</td>\n",
       "    </tr>\n",
       "    <tr>\n",
       "      <th>P12</th>\n",
       "      <td>-0.106583</td>\n",
       "    </tr>\n",
       "    <tr>\n",
       "      <th>WCC</th>\n",
       "      <td>-0.111259</td>\n",
       "    </tr>\n",
       "    <tr>\n",
       "      <th>3P_O</th>\n",
       "      <td>-0.152047</td>\n",
       "    </tr>\n",
       "    <tr>\n",
       "      <th>BE</th>\n",
       "      <td>-0.159475</td>\n",
       "    </tr>\n",
       "    <tr>\n",
       "      <th>SEC</th>\n",
       "      <td>-0.178517</td>\n",
       "    </tr>\n",
       "    <tr>\n",
       "      <th>B10</th>\n",
       "      <td>-0.203364</td>\n",
       "    </tr>\n",
       "    <tr>\n",
       "      <th>2P_O</th>\n",
       "      <td>-0.219235</td>\n",
       "    </tr>\n",
       "    <tr>\n",
       "      <th>ACC</th>\n",
       "      <td>-0.219656</td>\n",
       "    </tr>\n",
       "    <tr>\n",
       "      <th>EFG_O</th>\n",
       "      <td>-0.231130</td>\n",
       "    </tr>\n",
       "    <tr>\n",
       "      <th>B12</th>\n",
       "      <td>-0.251786</td>\n",
       "    </tr>\n",
       "    <tr>\n",
       "      <th>ORB</th>\n",
       "      <td>-0.293490</td>\n",
       "    </tr>\n",
       "    <tr>\n",
       "      <th>G</th>\n",
       "      <td>-0.363497</td>\n",
       "    </tr>\n",
       "    <tr>\n",
       "      <th>W</th>\n",
       "      <td>-0.540782</td>\n",
       "    </tr>\n",
       "    <tr>\n",
       "      <th>ADJOE</th>\n",
       "      <td>-0.744609</td>\n",
       "    </tr>\n",
       "    <tr>\n",
       "      <th>BARTHAG</th>\n",
       "      <td>-0.827418</td>\n",
       "    </tr>\n",
       "    <tr>\n",
       "      <th>WAB</th>\n",
       "      <td>-0.913801</td>\n",
       "    </tr>\n",
       "  </tbody>\n",
       "</table>"
      ],
      "text/plain": [
       "<IPython.core.display.HTML object>"
      ]
     },
     "metadata": {},
     "output_type": "display_data"
    }
   ],
   "source": [
    "correlation_table = seed_df.corr()['SEED']\n",
    "\n",
    "from IPython.display import display, HTML\n",
    "\n",
    "# Sort the correlation table\n",
    "sorted_correlation_table = correlation_table.sort_values(ascending=False)\n",
    "\n",
    "# Display the sorted correlation table with scrollable output\n",
    "display(HTML(sorted_correlation_table.to_frame().to_html()))\n",
    "# print(correlation_table)"
   ]
  },
  {
   "cell_type": "markdown",
   "metadata": {},
   "source": [
    "### EDA Analysis"
   ]
  },
  {
   "cell_type": "code",
   "execution_count": 73,
   "metadata": {},
   "outputs": [],
   "source": [
    "### Team attributes with the highest impact on seeding \n",
    "### (larger magnitude correlations from the correlation table)\n",
    "\n",
    "# WAB = Wins Above Bubble (May not use because bubble/March Madness cutoff is always changing)\n",
    "# BARTHAG = Power Ranking / Chance of beating an average D1 team (May not use because subjective power-ranking)\n",
    "# ADJOE = Adjusted Offensive Efficiency (number of points scored every 100 possessions)\n",
    "# W = Wins\n",
    "# G = Games\n",
    "# ORB = Offensive Rebound Rate\n",
    "# EFG_O = Effective Field Goal Percentage Short\n",
    "# 2P_O = 2 Point shooting percentage\n",
    "\n",
    "# ADJDE = Adjusted Defensive Efficiency (number of points allowed every 100 opponent possessions)\n",
    "# 2P_D = 2 Point shooting percentage allowed\n",
    "# EFG_D = Effective Field Goal percentage allowed\n",
    "# TOR = Turnover Rate\n",
    "# FTR_D = Free Throw Rate allowed\n",
    "\n",
    "# B12\n",
    "# ACC\n",
    "# B10"
   ]
  },
  {
   "cell_type": "markdown",
   "metadata": {},
   "source": [
    "### Training Machine Learning Models"
   ]
  },
  {
   "cell_type": "code",
   "execution_count": 112,
   "metadata": {},
   "outputs": [
    {
     "name": "stdout",
     "output_type": "stream",
     "text": [
      "Accuracy: 0.29411764705882354\n"
     ]
    }
   ],
   "source": [
    "# Select the relevant columns for training the model\n",
    "features = ['G', 'W', 'ADJOE', 'ADJDE', 'EFG_O', 'EFG_D', 'TOR', 'ORB', 'FTRD', '2P_D', 'B12', 'ACC', 'B10']\n",
    "\n",
    "# Split the data into training and testing sets\n",
    "X = seed_df[features]\n",
    "y = seed_df['SEED']\n",
    "X_train, X_test, y_train, y_test = train_test_split(X, y, test_size=0.1, random_state=42)\n",
    "\n",
    "# Train the Random Forest model\n",
    "model = RandomForestClassifier(n_estimators=200, random_state=42)\n",
    "model.fit(X_train, y_train)\n",
    "\n",
    "# Make predictions on the test set\n",
    "y_pred = model.predict(X_test)\n",
    "\n",
    "# Evaluate the model\n",
    "accuracy = accuracy_score(y_test, y_pred)\n",
    "print(\"Accuracy:\", accuracy)"
   ]
  },
  {
   "cell_type": "code",
   "execution_count": 113,
   "metadata": {},
   "outputs": [
    {
     "name": "stdout",
     "output_type": "stream",
     "text": [
      "Average Distance between Predicted and Actual Seed: 1.6470588235294117\n"
     ]
    }
   ],
   "source": [
    "import numpy as np\n",
    "\n",
    "# Get the predicted seed values\n",
    "predicted_seeds = model.predict(X_test)\n",
    "\n",
    "# Get the actual seed values\n",
    "actual_seeds = seed_df.loc[X_test.index]['SEED']\n",
    "\n",
    "# Calculate the absolute difference between predicted and actual seeds\n",
    "seed_diff = np.abs(predicted_seeds - actual_seeds)\n",
    "\n",
    "# Calculate the average distance\n",
    "average_distance = np.mean(seed_diff)\n",
    "\n",
    "print(\"Average Distance between Predicted and Actual Seed:\", average_distance)"
   ]
  },
  {
   "cell_type": "code",
   "execution_count": 114,
   "metadata": {},
   "outputs": [
    {
     "name": "stdout",
     "output_type": "stream",
     "text": [
      "Actual Seed: 9.0 , Predicted Seed: 8.0\n",
      "Actual Seed: 16.0 , Predicted Seed: 16.0\n",
      "Actual Seed: 3.0 , Predicted Seed: 11.0\n",
      "Actual Seed: 15.0 , Predicted Seed: 16.0\n",
      "Actual Seed: 1.0 , Predicted Seed: 3.0\n",
      "Actual Seed: 16.0 , Predicted Seed: 16.0\n",
      "Actual Seed: 13.0 , Predicted Seed: 14.0\n",
      "Actual Seed: 12.0 , Predicted Seed: 10.0\n",
      "Actual Seed: 12.0 , Predicted Seed: 9.0\n",
      "Actual Seed: 3.0 , Predicted Seed: 4.0\n",
      "Actual Seed: 7.0 , Predicted Seed: 7.0\n",
      "Actual Seed: 3.0 , Predicted Seed: 5.0\n",
      "Actual Seed: 15.0 , Predicted Seed: 15.0\n",
      "Actual Seed: 16.0 , Predicted Seed: 16.0\n",
      "Actual Seed: 6.0 , Predicted Seed: 7.0\n",
      "Actual Seed: 8.0 , Predicted Seed: 12.0\n",
      "Actual Seed: 9.0 , Predicted Seed: 9.0\n",
      "Actual Seed: 9.0 , Predicted Seed: 4.0\n",
      "Actual Seed: 11.0 , Predicted Seed: 9.0\n",
      "Actual Seed: 16.0 , Predicted Seed: 16.0\n",
      "Actual Seed: 2.0 , Predicted Seed: 1.0\n",
      "Actual Seed: 10.0 , Predicted Seed: 4.0\n",
      "Actual Seed: 9.0 , Predicted Seed: 11.0\n",
      "Actual Seed: 15.0 , Predicted Seed: 14.0\n",
      "Actual Seed: 15.0 , Predicted Seed: 13.0\n",
      "Actual Seed: 4.0 , Predicted Seed: 4.0\n",
      "Actual Seed: 3.0 , Predicted Seed: 10.0\n",
      "Actual Seed: 2.0 , Predicted Seed: 7.0\n",
      "Actual Seed: 11.0 , Predicted Seed: 12.0\n",
      "Actual Seed: 6.0 , Predicted Seed: 5.0\n",
      "Actual Seed: 12.0 , Predicted Seed: 11.0\n",
      "Actual Seed: 16.0 , Predicted Seed: 16.0\n",
      "Actual Seed: 11.0 , Predicted Seed: 11.0\n",
      "Actual Seed: 4.0 , Predicted Seed: 7.0\n",
      "Actual Seed: 2.0 , Predicted Seed: 2.0\n",
      "Actual Seed: 5.0 , Predicted Seed: 8.0\n",
      "Actual Seed: 11.0 , Predicted Seed: 6.0\n",
      "Actual Seed: 4.0 , Predicted Seed: 3.0\n",
      "Actual Seed: 16.0 , Predicted Seed: 16.0\n",
      "Actual Seed: 3.0 , Predicted Seed: 1.0\n",
      "Actual Seed: 7.0 , Predicted Seed: 11.0\n",
      "Actual Seed: 14.0 , Predicted Seed: 14.0\n",
      "Actual Seed: 2.0 , Predicted Seed: 1.0\n",
      "Actual Seed: 10.0 , Predicted Seed: 10.0\n",
      "Actual Seed: 11.0 , Predicted Seed: 9.0\n",
      "Actual Seed: 16.0 , Predicted Seed: 16.0\n",
      "Actual Seed: 4.0 , Predicted Seed: 5.0\n",
      "Actual Seed: 16.0 , Predicted Seed: 16.0\n",
      "Actual Seed: 2.0 , Predicted Seed: 1.0\n",
      "Actual Seed: 15.0 , Predicted Seed: 13.0\n",
      "Actual Seed: 2.0 , Predicted Seed: 2.0\n",
      "Actual Seed: 14.0 , Predicted Seed: 15.0\n",
      "Actual Seed: 4.0 , Predicted Seed: 3.0\n",
      "Actual Seed: 10.0 , Predicted Seed: 10.0\n",
      "Actual Seed: 15.0 , Predicted Seed: 16.0\n",
      "Actual Seed: 13.0 , Predicted Seed: 15.0\n",
      "Actual Seed: 12.0 , Predicted Seed: 12.0\n",
      "Actual Seed: 7.0 , Predicted Seed: 1.0\n",
      "Actual Seed: 5.0 , Predicted Seed: 8.0\n",
      "Actual Seed: 3.0 , Predicted Seed: 1.0\n",
      "Actual Seed: 9.0 , Predicted Seed: 11.0\n",
      "Actual Seed: 3.0 , Predicted Seed: 1.0\n",
      "Actual Seed: 9.0 , Predicted Seed: 8.0\n",
      "Actual Seed: 13.0 , Predicted Seed: 12.0\n",
      "Actual Seed: 13.0 , Predicted Seed: 11.0\n",
      "Actual Seed: 16.0 , Predicted Seed: 16.0\n",
      "Actual Seed: 13.0 , Predicted Seed: 14.0\n",
      "Actual Seed: 13.0 , Predicted Seed: 15.0\n"
     ]
    }
   ],
   "source": [
    "# Print actual vs predicted seed to check how accurate the predictions are\n",
    "predicted_seeds = model.predict(X_test)\n",
    "for actual_seed, predicted_seed in zip(actual_seeds, predicted_seeds):\n",
    "    print(\"Actual Seed:\", actual_seed, \", Predicted Seed:\", predicted_seed)"
   ]
  },
  {
   "cell_type": "code",
   "execution_count": 105,
   "metadata": {},
   "outputs": [],
   "source": [
    "# Predict whether a team will qualify for March Madness"
   ]
  },
  {
   "cell_type": "code",
   "execution_count": 108,
   "metadata": {},
   "outputs": [],
   "source": [
    "# Predict final post season result"
   ]
  },
  {
   "cell_type": "code",
   "execution_count": null,
   "metadata": {},
   "outputs": [],
   "source": [
    "# Run on cbb24.csv"
   ]
  }
 ],
 "metadata": {
  "kernelspec": {
   "display_name": "Python 3",
   "language": "python",
   "name": "python3"
  },
  "language_info": {
   "codemirror_mode": {
    "name": "ipython",
    "version": 3
   },
   "file_extension": ".py",
   "mimetype": "text/x-python",
   "name": "python",
   "nbconvert_exporter": "python",
   "pygments_lexer": "ipython3",
   "version": "3.12.1"
  }
 },
 "nbformat": 4,
 "nbformat_minor": 2
}

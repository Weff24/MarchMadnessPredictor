{
 "cells": [
  {
   "cell_type": "markdown",
   "metadata": {},
   "source": [
    "### "
   ]
  },
  {
   "cell_type": "code",
   "execution_count": 51,
   "metadata": {},
   "outputs": [],
   "source": [
    "# make env\n",
    "# pip install requests\n",
    "# %pip install pandas\n",
    "# %pip install matplotlib \n",
    "# %pip install -U scikit-learn\n",
    "# %pip install imbalanced-learn"
   ]
  },
  {
   "cell_type": "code",
   "execution_count": 52,
   "metadata": {},
   "outputs": [],
   "source": [
    "# Imports\n",
    "import pandas as pd\n",
    "import os\n",
    "import matplotlib.pyplot as plt\n",
    "import numpy as np\n",
    "from sklearn.model_selection import train_test_split, GridSearchCV\n",
    "from sklearn.ensemble import RandomForestClassifier\n",
    "from sklearn.metrics import accuracy_score\n",
    "from sklearn.neural_network import MLPClassifier\n",
    "from sklearn.tree import DecisionTreeClassifier\n",
    "from IPython.display import display, HTML\n",
    "import matplotlib.pyplot as plt"
   ]
  },
  {
   "cell_type": "markdown",
   "metadata": {},
   "source": [
    "### Load Dataset"
   ]
  },
  {
   "cell_type": "code",
   "execution_count": 53,
   "metadata": {},
   "outputs": [],
   "source": [
    "# Dataset Source: https://www.kaggle.com/datasets/andrewsundberg/college-basketball-dataset?select=cbb13.csv\n",
    "\n",
    "dataframes = {}\n",
    "directory = 'march_mad_data'\n",
    "\n",
    "# Load general cbb.csv dataset into a dataframe\n",
    "for filename in os.listdir(directory):\n",
    "    if filename.endswith(\"cbb.csv\"):\n",
    "        path = os.path.join(directory, filename)\n",
    "        dataframes[filename] = pd.read_csv(path)"
   ]
  },
  {
   "cell_type": "code",
   "execution_count": 54,
   "metadata": {},
   "outputs": [
    {
     "name": "stdout",
     "output_type": "stream",
     "text": [
      "                TEAM  CONF   G   W  ADJOE  ADJDE  BARTHAG  EFG_O  EFG_D   TOR  \\\n",
      "0     North Carolina   ACC  40  33  123.3   94.9   0.9531   52.6   48.1  15.4   \n",
      "1          Wisconsin   B10  40  36  129.1   93.6   0.9758   54.8   47.7  12.4   \n",
      "2           Michigan   B10  40  33  114.4   90.4   0.9375   53.9   47.7  14.0   \n",
      "3         Texas Tech   B12  38  31  115.2   85.2   0.9696   53.5   43.0  17.7   \n",
      "4            Gonzaga   WCC  39  37  117.8   86.3   0.9728   56.6   41.1  16.2   \n",
      "...              ...   ...  ..  ..    ...    ...      ...    ...    ...   ...   \n",
      "3518          Toledo   MAC  34  27  119.9  109.6   0.7369   56.3   52.9  13.6   \n",
      "3519         Liberty  ASun  33  27  111.4   97.3   0.8246   55.5   49.3  16.0   \n",
      "3520     Utah Valley   WAC  34  28  107.1   94.6   0.8065   51.7   44.0  19.3   \n",
      "3521             UAB  CUSA  38  29  112.4   97.0   0.8453   50.3   47.3  17.3   \n",
      "3522     North Texas  CUSA  36  31  110.0   93.8   0.8622   51.2   44.5  19.8   \n",
      "\n",
      "      ...  FTRD  2P_O  2P_D  3P_O  3P_D  ADJ_T   WAB  POSTSEASON  SEED  YEAR  \n",
      "0     ...  30.4  53.9  44.6  32.7  36.2   71.7   8.6         2ND   1.0  2016  \n",
      "1     ...  22.4  54.8  44.7  36.5  37.5   59.3  11.3         2ND   1.0  2015  \n",
      "2     ...  30.0  54.7  46.8  35.2  33.2   65.9   6.9         2ND   3.0  2018  \n",
      "3     ...  36.6  52.8  41.9  36.5  29.7   67.5   7.0         2ND   3.0  2019  \n",
      "4     ...  26.9  56.3  40.0  38.2  29.0   71.5   7.7         2ND   1.0  2017  \n",
      "...   ...   ...   ...   ...   ...   ...    ...   ...         ...   ...   ...  \n",
      "3518  ...  27.5  54.6  52.1  39.7  36.1   69.5  -1.2         NaN   NaN  2023  \n",
      "3519  ...  27.8  56.4  48.6  36.4  33.6   64.4  -2.0         NaN   NaN  2023  \n",
      "3520  ...  28.7  52.5  42.8  33.4  31.1   69.8  -0.3         NaN   NaN  2023  \n",
      "3521  ...  28.9  48.8  47.2  35.6  31.6   70.7  -0.5         NaN   NaN  2023  \n",
      "3522  ...  40.2  49.6  44.2  35.7  30.1   58.7   1.1         NaN   NaN  2023  \n",
      "\n",
      "[3523 rows x 24 columns]\n"
     ]
    }
   ],
   "source": [
    "df = dataframes[\"cbb.csv\"]\n",
    "print(df)"
   ]
  },
  {
   "cell_type": "markdown",
   "metadata": {},
   "source": [
    "### Data Cleaning"
   ]
  },
  {
   "cell_type": "code",
   "execution_count": 55,
   "metadata": {},
   "outputs": [
    {
     "name": "stdout",
     "output_type": "stream",
     "text": [
      "[ 1.  3.  8.  4.  2.  7.  6.  9. 11. 10.  5. nan 16. 12. 13. 14. 15.]\n",
      "number of rows: 3523\n",
      "number of columns: 24\n"
     ]
    }
   ],
   "source": [
    "clean_df = df.replace(\"N/A\", \"NA\")\n",
    "print(df[\"SEED\"].unique())\n",
    "print(f\"number of rows: {len(clean_df)}\")\n",
    "print(f\"number of columns: {len(clean_df.columns)}\")"
   ]
  },
  {
   "cell_type": "markdown",
   "metadata": {},
   "source": [
    "# Drop columns we don't want\n"
   ]
  },
  {
   "cell_type": "markdown",
   "metadata": {},
   "source": [
    "### Exploratory Data Analysis (EDA)"
   ]
  },
  {
   "cell_type": "code",
   "execution_count": 56,
   "metadata": {},
   "outputs": [
    {
     "name": "stdout",
     "output_type": "stream",
     "text": [
      "['2ND' 'Champions' 'E8' 'F4' 'R32' 'R64' 'R68' 'S16']\n",
      "[2 1 4 3 6 7 8 5]\n",
      "680\n"
     ]
    },
    {
     "name": "stderr",
     "output_type": "stream",
     "text": [
      "C:\\Users\\seand\\AppData\\Local\\Temp\\ipykernel_50224\\1306498176.py:7: SettingWithCopyWarning: \n",
      "A value is trying to be set on a copy of a slice from a DataFrame.\n",
      "Try using .loc[row_indexer,col_indexer] = value instead\n",
      "\n",
      "See the caveats in the documentation: https://pandas.pydata.org/pandas-docs/stable/user_guide/indexing.html#returning-a-view-versus-a-copy\n",
      "  placement_df['POSTSEASON'] = placement_df['POSTSEASON'].map(postseason_mapping)\n"
     ]
    }
   ],
   "source": [
    "placement_df = clean_df.dropna()\n",
    "print(placement_df[\"POSTSEASON\"].unique())\n",
    "# Define a dictionary to map the postseason labels to numbers\n",
    "postseason_mapping = {'Champions': 1, '2ND': 2, 'F4': 3, 'E8': 4, 'S16': 5, 'R32': 6, 'R64': 7, 'R68': 8}\n",
    "\n",
    "# Use the map() function to convert the values in the \"POSTSEASON\" column\n",
    "placement_df['POSTSEASON'] = placement_df['POSTSEASON'].map(postseason_mapping)\n",
    "\n",
    "print(placement_df[\"POSTSEASON\"].unique())\n",
    "print(len(placement_df))"
   ]
  },
  {
   "cell_type": "code",
   "execution_count": 57,
   "metadata": {},
   "outputs": [],
   "source": [
    "placement_df = placement_df.drop(columns=['YEAR', 'TEAM'])\n",
    "one_hot_encoded = pd.get_dummies(placement_df['CONF'])\n",
    "placement_df = placement_df.drop(columns=['CONF'])\n",
    "placement_df = pd.concat([placement_df, one_hot_encoded], axis=1)\n",
    "placement_df['WINRATE'] = placement_df['W'] / placement_df['G']"
   ]
  },
  {
   "cell_type": "code",
   "execution_count": 58,
   "metadata": {},
   "outputs": [],
   "source": [
    "# Compare conference and whether the team qualifies for March Madness (EDA) !!!!!!!!!!!!!!!!!!!!!"
   ]
  },
  {
   "cell_type": "code",
   "execution_count": 59,
   "metadata": {},
   "outputs": [],
   "source": [
    "from imblearn.over_sampling import RandomOverSampler\n",
    "\n",
    "# Create a list of target values for seeds 1 and 2\n",
    "target_values = [1, 2]\n",
    "\n",
    "# Filter the original dataset to include only seeds 1 and 2\n",
    "filtered_df = placement_df[placement_df['SEED'].isin(target_values)]\n",
    "\n",
    "# Create an oversampler object\n",
    "oversampler = RandomOverSampler(sampling_strategy='auto')\n",
    "\n",
    "# Oversample the dataset\n",
    "X_oversampled, y_oversampled = oversampler.fit_resample(filtered_df.drop('SEED', axis=1), filtered_df['SEED'])\n",
    "\n",
    "# Create a new DataFrame with the oversampled data\n",
    "oversampled_df = pd.DataFrame(X_oversampled, columns=filtered_df.drop('SEED', axis=1).columns)\n",
    "oversampled_df['SEED'] = y_oversampled\n",
    "\n",
    "# Concatenate the oversampled data with the original dataset\n",
    "placement_df = pd.concat([placement_df, oversampled_df], ignore_index=True)"
   ]
  },
  {
   "cell_type": "code",
   "execution_count": 60,
   "metadata": {},
   "outputs": [
    {
     "data": {
      "text/html": [
       "<table border=\"1\" class=\"dataframe\">\n",
       "  <thead>\n",
       "    <tr style=\"text-align: right;\">\n",
       "      <th></th>\n",
       "      <th>POSTSEASON</th>\n",
       "    </tr>\n",
       "  </thead>\n",
       "  <tbody>\n",
       "    <tr>\n",
       "      <th>POSTSEASON</th>\n",
       "      <td>1.000000</td>\n",
       "    </tr>\n",
       "    <tr>\n",
       "      <th>SEED</th>\n",
       "      <td>0.597615</td>\n",
       "    </tr>\n",
       "    <tr>\n",
       "      <th>ADJDE</th>\n",
       "      <td>0.464623</td>\n",
       "    </tr>\n",
       "    <tr>\n",
       "      <th>EFG_D</th>\n",
       "      <td>0.271225</td>\n",
       "    </tr>\n",
       "    <tr>\n",
       "      <th>2P_D</th>\n",
       "      <td>0.245936</td>\n",
       "    </tr>\n",
       "    <tr>\n",
       "      <th>TOR</th>\n",
       "      <td>0.232199</td>\n",
       "    </tr>\n",
       "    <tr>\n",
       "      <th>FTRD</th>\n",
       "      <td>0.198177</td>\n",
       "    </tr>\n",
       "    <tr>\n",
       "      <th>3P_D</th>\n",
       "      <td>0.149353</td>\n",
       "    </tr>\n",
       "    <tr>\n",
       "      <th>NEC</th>\n",
       "      <td>0.117870</td>\n",
       "    </tr>\n",
       "    <tr>\n",
       "      <th>SWAC</th>\n",
       "      <td>0.110246</td>\n",
       "    </tr>\n",
       "    <tr>\n",
       "      <th>MEAC</th>\n",
       "      <td>0.102622</td>\n",
       "    </tr>\n",
       "    <tr>\n",
       "      <th>FTR</th>\n",
       "      <td>0.092204</td>\n",
       "    </tr>\n",
       "    <tr>\n",
       "      <th>MWC</th>\n",
       "      <td>0.091752</td>\n",
       "    </tr>\n",
       "    <tr>\n",
       "      <th>SB</th>\n",
       "      <td>0.083699</td>\n",
       "    </tr>\n",
       "    <tr>\n",
       "      <th>BSth</th>\n",
       "      <td>0.083699</td>\n",
       "    </tr>\n",
       "    <tr>\n",
       "      <th>Horz</th>\n",
       "      <td>0.079750</td>\n",
       "    </tr>\n",
       "    <tr>\n",
       "      <th>BSky</th>\n",
       "      <td>0.079750</td>\n",
       "    </tr>\n",
       "    <tr>\n",
       "      <th>CAA</th>\n",
       "      <td>0.079750</td>\n",
       "    </tr>\n",
       "    <tr>\n",
       "      <th>Pat</th>\n",
       "      <td>0.079750</td>\n",
       "    </tr>\n",
       "    <tr>\n",
       "      <th>OVC</th>\n",
       "      <td>0.076425</td>\n",
       "    </tr>\n",
       "    <tr>\n",
       "      <th>Slnd</th>\n",
       "      <td>0.072126</td>\n",
       "    </tr>\n",
       "    <tr>\n",
       "      <th>WAC</th>\n",
       "      <td>0.072126</td>\n",
       "    </tr>\n",
       "    <tr>\n",
       "      <th>AE</th>\n",
       "      <td>0.072126</td>\n",
       "    </tr>\n",
       "    <tr>\n",
       "      <th>A10</th>\n",
       "      <td>0.068626</td>\n",
       "    </tr>\n",
       "    <tr>\n",
       "      <th>BW</th>\n",
       "      <td>0.064502</td>\n",
       "    </tr>\n",
       "    <tr>\n",
       "      <th>MAAC</th>\n",
       "      <td>0.064502</td>\n",
       "    </tr>\n",
       "    <tr>\n",
       "      <th>SC</th>\n",
       "      <td>0.064502</td>\n",
       "    </tr>\n",
       "    <tr>\n",
       "      <th>ASun</th>\n",
       "      <td>0.059545</td>\n",
       "    </tr>\n",
       "    <tr>\n",
       "      <th>Sum</th>\n",
       "      <td>0.056879</td>\n",
       "    </tr>\n",
       "    <tr>\n",
       "      <th>MAC</th>\n",
       "      <td>0.056879</td>\n",
       "    </tr>\n",
       "    <tr>\n",
       "      <th>Ivy</th>\n",
       "      <td>0.035453</td>\n",
       "    </tr>\n",
       "    <tr>\n",
       "      <th>DRB</th>\n",
       "      <td>0.034985</td>\n",
       "    </tr>\n",
       "    <tr>\n",
       "      <th>ADJ_T</th>\n",
       "      <td>0.030050</td>\n",
       "    </tr>\n",
       "    <tr>\n",
       "      <th>CUSA</th>\n",
       "      <td>0.003511</td>\n",
       "    </tr>\n",
       "    <tr>\n",
       "      <th>Amer</th>\n",
       "      <td>-0.007889</td>\n",
       "    </tr>\n",
       "    <tr>\n",
       "      <th>MVC</th>\n",
       "      <td>-0.020669</td>\n",
       "    </tr>\n",
       "    <tr>\n",
       "      <th>TORD</th>\n",
       "      <td>-0.042685</td>\n",
       "    </tr>\n",
       "    <tr>\n",
       "      <th>P12</th>\n",
       "      <td>-0.054344</td>\n",
       "    </tr>\n",
       "    <tr>\n",
       "      <th>BE</th>\n",
       "      <td>-0.073919</td>\n",
       "    </tr>\n",
       "    <tr>\n",
       "      <th>B10</th>\n",
       "      <td>-0.087865</td>\n",
       "    </tr>\n",
       "    <tr>\n",
       "      <th>SEC</th>\n",
       "      <td>-0.088534</td>\n",
       "    </tr>\n",
       "    <tr>\n",
       "      <th>WCC</th>\n",
       "      <td>-0.106420</td>\n",
       "    </tr>\n",
       "    <tr>\n",
       "      <th>B12</th>\n",
       "      <td>-0.110712</td>\n",
       "    </tr>\n",
       "    <tr>\n",
       "      <th>3P_O</th>\n",
       "      <td>-0.183011</td>\n",
       "    </tr>\n",
       "    <tr>\n",
       "      <th>ACC</th>\n",
       "      <td>-0.193840</td>\n",
       "    </tr>\n",
       "    <tr>\n",
       "      <th>ORB</th>\n",
       "      <td>-0.204930</td>\n",
       "    </tr>\n",
       "    <tr>\n",
       "      <th>2P_O</th>\n",
       "      <td>-0.270526</td>\n",
       "    </tr>\n",
       "    <tr>\n",
       "      <th>EFG_O</th>\n",
       "      <td>-0.292284</td>\n",
       "    </tr>\n",
       "    <tr>\n",
       "      <th>WINRATE</th>\n",
       "      <td>-0.446392</td>\n",
       "    </tr>\n",
       "    <tr>\n",
       "      <th>G</th>\n",
       "      <td>-0.447413</td>\n",
       "    </tr>\n",
       "    <tr>\n",
       "      <th>BARTHAG</th>\n",
       "      <td>-0.513903</td>\n",
       "    </tr>\n",
       "    <tr>\n",
       "      <th>ADJOE</th>\n",
       "      <td>-0.566249</td>\n",
       "    </tr>\n",
       "    <tr>\n",
       "      <th>WAB</th>\n",
       "      <td>-0.587075</td>\n",
       "    </tr>\n",
       "    <tr>\n",
       "      <th>W</th>\n",
       "      <td>-0.604293</td>\n",
       "    </tr>\n",
       "  </tbody>\n",
       "</table>"
      ],
      "text/plain": [
       "<IPython.core.display.HTML object>"
      ]
     },
     "metadata": {},
     "output_type": "display_data"
    }
   ],
   "source": [
    "correlation_table = placement_df.corr()['POSTSEASON']\n",
    "\n",
    "# Sort the correlation table\n",
    "sorted_correlation_table = correlation_table.sort_values(ascending=False)\n",
    "\n",
    "# Display the sorted correlation table with scrollable output\n",
    "display(HTML(sorted_correlation_table.to_frame().to_html()))\n",
    "# print(correlation_table)"
   ]
  },
  {
   "cell_type": "markdown",
   "metadata": {},
   "source": [
    "### EDA Analysis"
   ]
  },
  {
   "cell_type": "code",
   "execution_count": 61,
   "metadata": {},
   "outputs": [],
   "source": [
    "### Team attributes with the highest impact on final placement \n",
    "### (larger magnitude correlations from the correlation table)\n",
    "\n",
    "# WAB = Wins Above Bubble (May not use because bubble/March Madness cutoff is always changing)\n",
    "# BARTHAG = Power Ranking / Chance of beating an average D1 team (May not use because subjective power-ranking)\n",
    "# ADJOE = Adjusted Offensive Efficiency (number of points scored every 100 possessions)\n",
    "# W = Wins\n",
    "# G = Games\n",
    "# EFG_O = Effective Field Goal Percentage Short\n",
    "# 2P_O = 2 Point shooting percentage\n",
    "\n",
    "# SEED = Team's initial seed in tournament\n",
    "# ADJDE = Adjusted Defensive Efficiency (number of points allowed every 100 opponent possessions)\n",
    "# EFG_D = Effective Field Goal percentage allowed\n",
    "# 2P_D = 2 Point shooting percentage allowed\n",
    "# TOR = Turnover Rate"
   ]
  },
  {
   "cell_type": "markdown",
   "metadata": {},
   "source": [
    "### Training Machine Learning Models"
   ]
  },
  {
   "cell_type": "markdown",
   "metadata": {},
   "source": [
    "#### Create data splits"
   ]
  },
  {
   "cell_type": "code",
   "execution_count": 62,
   "metadata": {},
   "outputs": [],
   "source": [
    "# Select the relevant columns for training the model\n",
    "features = ['SEED', 'WINRATE', 'ADJOE', 'ADJDE', 'EFG_O', 'EFG_D', 'TOR', '2P_O', '2P_D']\n",
    "\n",
    "# Split the data into training and testing sets\n",
    "X = placement_df[features]\n",
    "y = placement_df['POSTSEASON']\n",
    "X_train, X_test, y_train, y_test = train_test_split(X, y, test_size=0.1, random_state=42)"
   ]
  },
  {
   "cell_type": "markdown",
   "metadata": {},
   "source": [
    "#### Decision Tree"
   ]
  },
  {
   "cell_type": "code",
   "execution_count": 63,
   "metadata": {},
   "outputs": [
    {
     "name": "stdout",
     "output_type": "stream",
     "text": [
      "Accuracy: 0.5394736842105263\n"
     ]
    }
   ],
   "source": [
    "# Create a decision tree classifier\n",
    "dt_classifier = DecisionTreeClassifier()\n",
    "\n",
    "# Train the classifier on the training data\n",
    "dt_classifier.fit(X_train, y_train)\n",
    "\n",
    "# Make predictions on the test set\n",
    "y_pred = dt_classifier.predict(X_test)\n",
    "\n",
    "# Calculate the accuracy of the classifier\n",
    "accuracy = accuracy_score(y_test, y_pred)\n",
    "print(\"Accuracy:\", accuracy)"
   ]
  },
  {
   "cell_type": "code",
   "execution_count": 64,
   "metadata": {},
   "outputs": [
    {
     "name": "stdout",
     "output_type": "stream",
     "text": [
      "DT Average Distance between Predicted and Actual Placement: 0.8421052631578947\n"
     ]
    }
   ],
   "source": [
    "# Get the predicted placement values\n",
    "predicted_placements = dt_classifier.predict(X_test)\n",
    "\n",
    "# Get the actual placement values\n",
    "actual_placements = placement_df.loc[X_test.index]['POSTSEASON']\n",
    "\n",
    "# Calculate the absolute difference between predicted and actual placements\n",
    "placement_diff = np.abs(predicted_placements - actual_placements)\n",
    "\n",
    "# Calculate the average distance\n",
    "average_distance = np.mean(placement_diff)\n",
    "\n",
    "print(\"DT Average Distance between Predicted and Actual Placement:\", average_distance)"
   ]
  },
  {
   "cell_type": "markdown",
   "metadata": {},
   "source": [
    "#### Random Forest Classifier"
   ]
  },
  {
   "cell_type": "code",
   "execution_count": 65,
   "metadata": {},
   "outputs": [
    {
     "name": "stdout",
     "output_type": "stream",
     "text": [
      "Accuracy: 0.5789473684210527\n"
     ]
    }
   ],
   "source": [
    "# Train the Random Forest model\n",
    "rf_classifier = RandomForestClassifier(n_estimators=200, random_state=42)\n",
    "rf_classifier.fit(X_train, y_train)\n",
    "\n",
    "# Make predictions on the test set\n",
    "y_pred = rf_classifier.predict(X_test)\n",
    "\n",
    "# Evaluate the model\n",
    "accuracy = accuracy_score(y_test, y_pred)\n",
    "print(\"Accuracy:\", accuracy)"
   ]
  },
  {
   "cell_type": "code",
   "execution_count": 66,
   "metadata": {},
   "outputs": [
    {
     "name": "stdout",
     "output_type": "stream",
     "text": [
      "RF Average Distance between Predicted and Actual Placement: 0.4868421052631579\n"
     ]
    }
   ],
   "source": [
    "# Get the predicted placement values\n",
    "predicted_placements = rf_classifier.predict(X_test)\n",
    "\n",
    "# Get the actual placement values\n",
    "actual_placements = placement_df.loc[X_test.index]['POSTSEASON']\n",
    "\n",
    "# Calculate the absolute difference between predicted and actual seeds\n",
    "placement_diff = np.abs(predicted_placements - actual_placements)\n",
    "\n",
    "# Calculate the average distance\n",
    "average_distance = np.mean(placement_diff)\n",
    "\n",
    "print(\"RF Average Distance between Predicted and Actual Placement:\", average_distance)"
   ]
  },
  {
   "cell_type": "markdown",
   "metadata": {},
   "source": [
    "### Grid Search RF"
   ]
  },
  {
   "cell_type": "code",
   "execution_count": 67,
   "metadata": {},
   "outputs": [],
   "source": [
    "# Define the parameter grid for grid search\n",
    "param_grid = {\n",
    "    'n_estimators': [100, 200, 300],\n",
    "    'max_depth': [None, 5, 10],\n",
    "    'min_samples_split': [2, 5, 10],\n",
    "    'min_samples_leaf': [1, 2, 4]\n",
    "}\n",
    "\n",
    "# Create the random forest classifier\n",
    "rf = RandomForestClassifier()\n",
    "\n",
    "# Create the grid search object\n",
    "grid_search = GridSearchCV(estimator=rf, param_grid=param_grid, cv=5)\n",
    "\n",
    "# Fit the grid search to the training data\n",
    "grid_search.fit(X_train, y_train)\n",
    "\n",
    "# Get the best parameters and best score\n",
    "best_params = grid_search.best_params_\n",
    "best_score = grid_search.best_score_\n",
    "\n",
    "# Use the best parameters to create the final random forest model\n",
    "final_rf = RandomForestClassifier(**best_params)\n",
    "\n",
    "# Fit the final model to the training data\n",
    "final_rf.fit(X_train, y_train)\n",
    "\n",
    "# Evaluate the final model on the test data\n",
    "accuracy = final_rf.score(X_test, y_test)"
   ]
  },
  {
   "cell_type": "code",
   "execution_count": 68,
   "metadata": {},
   "outputs": [
    {
     "name": "stdout",
     "output_type": "stream",
     "text": [
      "Final Random Forest Model Accuracy: 0.6052631578947368\n"
     ]
    }
   ],
   "source": [
    "print(\"Final Random Forest Model Accuracy:\", accuracy)"
   ]
  },
  {
   "cell_type": "code",
   "execution_count": 69,
   "metadata": {},
   "outputs": [
    {
     "name": "stdout",
     "output_type": "stream",
     "text": [
      "GridSearch RF Average Distance between Predicted and Actual Placement: 0.5131578947368421\n"
     ]
    }
   ],
   "source": [
    "# Get the predicted placement values\n",
    "predicted_placements = final_rf.predict(X_test)\n",
    "\n",
    "# Get the actual placement values\n",
    "actual_placements = placement_df.loc[X_test.index]['POSTSEASON']\n",
    "\n",
    "# Calculate the absolute difference between predicted and actual placements\n",
    "placement_diff = np.abs(predicted_placements - actual_placements)\n",
    "\n",
    "# Calculate the average distance\n",
    "average_distance = np.mean(placement_diff)\n",
    "\n",
    "print(\"GridSearch RF Average Distance between Predicted and Actual Placement:\", average_distance)"
   ]
  },
  {
   "cell_type": "markdown",
   "metadata": {},
   "source": [
    "#### Neural Network"
   ]
  },
  {
   "cell_type": "code",
   "execution_count": 70,
   "metadata": {},
   "outputs": [
    {
     "name": "stdout",
     "output_type": "stream",
     "text": [
      "Predictions: [7 7 6 7 7 6 7 7 4 7 7 5 5 5 4 6 7 7 5 7 5 5 7 7 6 7 7 5 7 7 7 7 5 6 8 7 5\n",
      " 7 7 6 4 7 7 7 7 6 7 6 6 7 7 7 5 7 7 6 7 5 7 7 7 4 7 7 7 5 5 7 8 4 7 5 7 7\n",
      " 7 7]\n",
      "Accuracy: 0.5\n"
     ]
    }
   ],
   "source": [
    "# Create an instance of the MLPClassifier\n",
    "model = MLPClassifier(hidden_layer_sizes=(50, 50, 50), activation='relu', solver='adam', random_state=42)\n",
    "\n",
    "# Train the model\n",
    "model.fit(X_train, y_train)\n",
    "\n",
    "# Make predictions on the test data\n",
    "predictions = model.predict(X_test)\n",
    "\n",
    "# Evaluate the accuracy of the model\n",
    "accuracy = model.score(X_test, y_test)\n",
    "\n",
    "# Print the predictions and accuracy\n",
    "print(\"Predictions:\", predictions)\n",
    "print(\"Accuracy:\", accuracy)"
   ]
  },
  {
   "cell_type": "code",
   "execution_count": 71,
   "metadata": {},
   "outputs": [
    {
     "name": "stdout",
     "output_type": "stream",
     "text": [
      "NN Average Distance between Predicted and Actual Placement: 0.6973684210526315\n"
     ]
    }
   ],
   "source": [
    "# Get the predicted placement values\n",
    "predicted_placements = model.predict(X_test)\n",
    "\n",
    "# Get the actual placement values\n",
    "actual_placements = placement_df.loc[X_test.index]['POSTSEASON']\n",
    "\n",
    "# Calculate the absolute difference between predicted and actual placements\n",
    "placement_diff = np.abs(predicted_placements - actual_placements)\n",
    "\n",
    "# Calculate the average distance\n",
    "average_distance = np.mean(placement_diff)\n",
    "\n",
    "print(\"NN Average Distance between Predicted and Actual Placement:\", average_distance)"
   ]
  },
  {
   "cell_type": "code",
   "execution_count": 72,
   "metadata": {},
   "outputs": [
    {
     "name": "stdout",
     "output_type": "stream",
     "text": [
      "Actual Placement: 8 , Predicted Placement: 7\n",
      "Actual Placement: 7 , Predicted Placement: 7\n",
      "Actual Placement: 6 , Predicted Placement: 5\n",
      "Actual Placement: 7 , Predicted Placement: 6\n",
      "Actual Placement: 6 , Predicted Placement: 7\n",
      "Actual Placement: 7 , Predicted Placement: 6\n",
      "Actual Placement: 7 , Predicted Placement: 7\n",
      "Actual Placement: 7 , Predicted Placement: 7\n",
      "Actual Placement: 4 , Predicted Placement: 4\n",
      "Actual Placement: 7 , Predicted Placement: 6\n",
      "Actual Placement: 6 , Predicted Placement: 6\n",
      "Actual Placement: 6 , Predicted Placement: 5\n",
      "Actual Placement: 6 , Predicted Placement: 6\n",
      "Actual Placement: 6 , Predicted Placement: 6\n",
      "Actual Placement: 1 , Predicted Placement: 1\n",
      "Actual Placement: 4 , Predicted Placement: 6\n",
      "Actual Placement: 7 , Predicted Placement: 7\n",
      "Actual Placement: 7 , Predicted Placement: 7\n",
      "Actual Placement: 4 , Predicted Placement: 4\n",
      "Actual Placement: 7 , Predicted Placement: 7\n",
      "Actual Placement: 5 , Predicted Placement: 6\n",
      "Actual Placement: 4 , Predicted Placement: 5\n",
      "Actual Placement: 7 , Predicted Placement: 7\n",
      "Actual Placement: 5 , Predicted Placement: 7\n",
      "Actual Placement: 4 , Predicted Placement: 6\n",
      "Actual Placement: 6 , Predicted Placement: 6\n",
      "Actual Placement: 7 , Predicted Placement: 8\n",
      "Actual Placement: 5 , Predicted Placement: 5\n",
      "Actual Placement: 7 , Predicted Placement: 7\n",
      "Actual Placement: 8 , Predicted Placement: 7\n",
      "Actual Placement: 7 , Predicted Placement: 7\n",
      "Actual Placement: 7 , Predicted Placement: 7\n",
      "Actual Placement: 4 , Predicted Placement: 5\n",
      "Actual Placement: 7 , Predicted Placement: 6\n",
      "Actual Placement: 7 , Predicted Placement: 8\n",
      "Actual Placement: 7 , Predicted Placement: 7\n",
      "Actual Placement: 6 , Predicted Placement: 6\n",
      "Actual Placement: 7 , Predicted Placement: 7\n",
      "Actual Placement: 7 , Predicted Placement: 7\n",
      "Actual Placement: 7 , Predicted Placement: 7\n",
      "Actual Placement: 1 , Predicted Placement: 1\n",
      "Actual Placement: 8 , Predicted Placement: 7\n",
      "Actual Placement: 8 , Predicted Placement: 7\n",
      "Actual Placement: 6 , Predicted Placement: 6\n",
      "Actual Placement: 6 , Predicted Placement: 7\n",
      "Actual Placement: 6 , Predicted Placement: 5\n",
      "Actual Placement: 7 , Predicted Placement: 7\n",
      "Actual Placement: 6 , Predicted Placement: 7\n",
      "Actual Placement: 6 , Predicted Placement: 7\n",
      "Actual Placement: 7 , Predicted Placement: 6\n",
      "Actual Placement: 7 , Predicted Placement: 7\n",
      "Actual Placement: 7 , Predicted Placement: 7\n",
      "Actual Placement: 5 , Predicted Placement: 5\n",
      "Actual Placement: 6 , Predicted Placement: 6\n",
      "Actual Placement: 8 , Predicted Placement: 7\n",
      "Actual Placement: 3 , Predicted Placement: 5\n",
      "Actual Placement: 7 , Predicted Placement: 6\n",
      "Actual Placement: 6 , Predicted Placement: 6\n",
      "Actual Placement: 6 , Predicted Placement: 6\n",
      "Actual Placement: 6 , Predicted Placement: 7\n",
      "Actual Placement: 5 , Predicted Placement: 7\n",
      "Actual Placement: 4 , Predicted Placement: 4\n",
      "Actual Placement: 7 , Predicted Placement: 7\n",
      "Actual Placement: 6 , Predicted Placement: 7\n",
      "Actual Placement: 7 , Predicted Placement: 7\n",
      "Actual Placement: 7 , Predicted Placement: 7\n",
      "Actual Placement: 7 , Predicted Placement: 7\n",
      "Actual Placement: 7 , Predicted Placement: 7\n",
      "Actual Placement: 8 , Predicted Placement: 7\n",
      "Actual Placement: 1 , Predicted Placement: 1\n",
      "Actual Placement: 7 , Predicted Placement: 7\n",
      "Actual Placement: 7 , Predicted Placement: 7\n",
      "Actual Placement: 7 , Predicted Placement: 7\n",
      "Actual Placement: 6 , Predicted Placement: 7\n",
      "Actual Placement: 7 , Predicted Placement: 7\n",
      "Actual Placement: 7 , Predicted Placement: 7\n"
     ]
    }
   ],
   "source": [
    "# Print actual vs predicted placement to check how accurate the predictions are\n",
    "# model = dt_classifier # Change to whatever model you want to use\n",
    "model = rf_classifier \n",
    "\n",
    "predicted_placements = model.predict(X_test)\n",
    "for actual_placement, predicted_placement in zip(actual_placements, predicted_placements):\n",
    "    print(\"Actual Placement:\", actual_placement, \", Predicted Placement:\", predicted_placement)"
   ]
  },
  {
   "cell_type": "code",
   "execution_count": 73,
   "metadata": {},
   "outputs": [
    {
     "data": {
      "image/png": "[encoded data removed]",
      "text/plain": [
       "<Figure size 640x480 with 1 Axes>"
      ]
     },
     "metadata": {},
     "output_type": "display_data"
    }
   ],
   "source": [
    "\n",
    "# Calculate the difference between predicted placement and actual placement\n",
    "placement_difference = predicted_placements - actual_placements\n",
    "\n",
    "# Create a histogram of the placement difference\n",
    "plt.hist(placement_difference, bins=range(-100, 100), edgecolor='black')\n",
    "\n",
    "# Set the labels and title\n",
    "plt.xlabel('Placement Difference (Predicted - Actual)')\n",
    "plt.ylabel('Frequency')\n",
    "plt.title('Distribution of Placement Difference')\n",
    "\n",
    "# Show the plot\n",
    "plt.show()"
   ]
  },
  {
   "cell_type": "code",
   "execution_count": 74,
   "metadata": {},
   "outputs": [],
   "source": [
    "# Predict whether a team will qualify for March Madness"
   ]
  },
  {
   "cell_type": "code",
   "execution_count": 77,
   "metadata": {},
   "outputs": [
    {
     "name": "stdout",
     "output_type": "stream",
     "text": [
      "School: Houston, Predicted Postseason Placement: S16\n",
      "School: Connecticut, Predicted Postseason Placement: 2ND\n",
      "School: Purdue, Predicted Postseason Placement: Champions\n",
      "School: Iowa St., Predicted Postseason Placement: S16\n",
      "School: Auburn, Predicted Postseason Placement: S16\n",
      "School: Arizona, Predicted Postseason Placement: R32\n",
      "School: Tennessee, Predicted Postseason Placement: S16\n",
      "School: Marquette, Predicted Postseason Placement: R32\n",
      "School: North Carolina, Predicted Postseason Placement: F4\n",
      "School: Creighton, Predicted Postseason Placement: S16\n",
      "School: Duke, Predicted Postseason Placement: S16\n",
      "School: Illinois, Predicted Postseason Placement: R32\n",
      "School: Saint Mary's, Predicted Postseason Placement: R32\n",
      "School: Gonzaga, Predicted Postseason Placement: S16\n",
      "School: Alabama, Predicted Postseason Placement: S16\n",
      "School: Kansas, Predicted Postseason Placement: R32\n",
      "School: Baylor, Predicted Postseason Placement: S16\n",
      "School: BYU, Predicted Postseason Placement: R64\n",
      "School: Wisconsin, Predicted Postseason Placement: R64\n",
      "School: Texas, Predicted Postseason Placement: R32\n",
      "School: St. John's, Predicted Postseason Placement: R64\n",
      "School: Nebraska, Predicted Postseason Placement: R32\n",
      "School: Michigan St., Predicted Postseason Placement: R32\n",
      "School: Florida, Predicted Postseason Placement: S16\n",
      "School: Kentucky, Predicted Postseason Placement: R32\n",
      "School: New Mexico, Predicted Postseason Placement: R64\n",
      "School: Colorado, Predicted Postseason Placement: R32\n",
      "School: Texas Tech, Predicted Postseason Placement: R32\n",
      "School: San Diego St., Predicted Postseason Placement: R32\n",
      "School: Mississippi St., Predicted Postseason Placement: R64\n",
      "School: Northwestern, Predicted Postseason Placement: R64\n",
      "School: Villanova, Predicted Postseason Placement: R64\n",
      "School: TCU, Predicted Postseason Placement: R64\n",
      "School: Wake Forest, Predicted Postseason Placement: R64\n",
      "School: Clemson, Predicted Postseason Placement: R64\n",
      "School: Ohio St., Predicted Postseason Placement: R32\n",
      "School: Nevada, Predicted Postseason Placement: R64\n",
      "School: Pittsburgh, Predicted Postseason Placement: R64\n",
      "School: Washington St., Predicted Postseason Placement: R32\n",
      "School: Dayton, Predicted Postseason Placement: R64\n",
      "School: Boise St., Predicted Postseason Placement: R32\n",
      "School: Cincinnati, Predicted Postseason Placement: R64\n",
      "School: Texas A&M, Predicted Postseason Placement: R64\n",
      "School: Indiana St., Predicted Postseason Placement: R32\n",
      "School: Colorado St., Predicted Postseason Placement: R64\n",
      "School: Oklahoma, Predicted Postseason Placement: R64\n",
      "School: South Carolina, Predicted Postseason Placement: R64\n",
      "School: Utah, Predicted Postseason Placement: R64\n",
      "School: Drake, Predicted Postseason Placement: R64\n",
      "School: Iowa, Predicted Postseason Placement: R64\n",
      "School: Seton Hall, Predicted Postseason Placement: R64\n",
      "School: Florida Atlantic, Predicted Postseason Placement: R64\n",
      "School: Butler, Predicted Postseason Placement: R64\n",
      "School: Virginia Tech, Predicted Postseason Placement: R64\n",
      "School: Providence, Predicted Postseason Placement: R64\n",
      "School: Oregon, Predicted Postseason Placement: R64\n",
      "School: Virginia, Predicted Postseason Placement: R64\n",
      "School: Utah St., Predicted Postseason Placement: R64\n",
      "School: UCF, Predicted Postseason Placement: R64\n",
      "School: Bradley, Predicted Postseason Placement: R64\n",
      "School: Washington, Predicted Postseason Placement: R64\n",
      "School: Xavier, Predicted Postseason Placement: R64\n",
      "School: North Carolina St., Predicted Postseason Placement: R64\n",
      "School: Kansas St., Predicted Postseason Placement: R64\n",
      "School: Maryland, Predicted Postseason Placement: R64\n",
      "School: North Texas, Predicted Postseason Placement: R68\n",
      "School: UNLV, Predicted Postseason Placement: R64\n",
      "School: SMU, Predicted Postseason Placement: R64\n"
     ]
    }
   ],
   "source": [
    "# Predict final post season result\n",
    "# Load the cbb24 dataset\n",
    "directory = 'march_mad_data'\n",
    "\n",
    "# Load cbb24.csv dataset into a dataframe\n",
    "for filename in os.listdir(directory):\n",
    "    if filename.endswith(\"cbb24.csv\"):\n",
    "        path = os.path.join(directory, filename)\n",
    "        dataframes[filename] = pd.read_csv(path)\n",
    "\n",
    "df_cbb24 = dataframes[\"cbb24.csv\"]\n",
    "\n",
    "# Preprocess the cbb24 dataset\n",
    "cbb24_clean_df = df_cbb24.replace(\"N/A\", \"NA\")\n",
    "cbb24_clean_df = cbb24_clean_df.drop(columns=['TEAM'])\n",
    "one_hot_encoded = pd.get_dummies(cbb24_clean_df['CONF'])\n",
    "cbb24_clean_df = cbb24_clean_df.drop(columns=['CONF'])\n",
    "cbb24_clean_df = pd.concat([cbb24_clean_df, one_hot_encoded], axis=1)\n",
    "cbb24_clean_df['WINRATE'] = cbb24_clean_df['W'] / cbb24_clean_df['G']\n",
    "cbb24_clean_df.dropna(inplace=True)\n",
    "\n",
    "# Select the relevant columns for prediction\n",
    "prediction_features = ['SEED', 'WINRATE', 'ADJOE', 'ADJDE', 'EFG_O', 'EFG_D', 'TOR', '2P_O', '2P_D']\n",
    "\n",
    "# Make predictions using the best model\n",
    "cbb24_predictions = final_rf.predict(cbb24_clean_df[prediction_features])\n",
    "\n",
    "# Map the predicted values to the corresponding postseason placements\n",
    "placement_predictions = []\n",
    "for i in range(len(cbb24_predictions)):\n",
    "    if cbb24_predictions[i] == 1:\n",
    "        placement_predictions.append(\"Champions\") \n",
    "    elif cbb24_predictions[i] == 2:\n",
    "        placement_predictions.append(\"2ND\")\n",
    "    elif cbb24_predictions[i] == 3:\n",
    "        placement_predictions.append(\"F4\")\n",
    "    elif cbb24_predictions[i] == 4:\n",
    "        placement_predictions.append(\"E8\")\n",
    "    elif cbb24_predictions[i] == 5:\n",
    "        placement_predictions.append(\"S16\")\n",
    "    elif cbb24_predictions[i] == 6:\n",
    "        placement_predictions.append(\"R32\")\n",
    "    elif cbb24_predictions[i] == 7:\n",
    "        placement_predictions.append(\"R64\")\n",
    "    elif cbb24_predictions[i] == 8:\n",
    "        placement_predictions.append(\"R68\")\n",
    "\n",
    "for i in range(len(cbb24_predictions)):\n",
    "    print(f\"School: {df_cbb24['TEAM'][i]}, Predicted Postseason Placement: {placement_predictions[i]}\")\n",
    "\n",
    "\n"
   ]
  },
  {
   "cell_type": "code",
   "execution_count": null,
   "metadata": {},
   "outputs": [],
   "source": []
  }
 ],
 "metadata": {
  "kernelspec": {
   "display_name": "Python 3",
   "language": "python",
   "name": "python3"
  },
  "language_info": {
   "codemirror_mode": {
    "name": "ipython",
    "version": 3
   },
   "file_extension": ".py",
   "mimetype": "text/x-python",
   "name": "python",
   "nbconvert_exporter": "python",
   "pygments_lexer": "ipython3",
   "version": "3.12.1"
  }
 },
 "nbformat": 4,
 "nbformat_minor": 2
}

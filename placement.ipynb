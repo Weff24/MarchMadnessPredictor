{
 "cells": [
  {
   "cell_type": "markdown",
   "metadata": {},
   "source": [
    "### "
   ]
  },
  {
   "cell_type": "code",
   "execution_count": 1,
   "metadata": {},
   "outputs": [],
   "source": [
    "# make env\n",
    "# pip install requests\n",
    "# %pip install pandas\n",
    "# %pip install matplotlib \n",
    "# %pip install -U scikit-learn"
   ]
  },
  {
   "cell_type": "code",
   "execution_count": 2,
   "metadata": {},
   "outputs": [],
   "source": [
    "# Imports\n",
    "import pandas as pd\n",
    "import os\n",
    "import matplotlib.pyplot as plt\n",
    "import numpy as np\n",
    "from sklearn.model_selection import train_test_split\n",
    "from sklearn.ensemble import RandomForestClassifier\n",
    "from sklearn.metrics import accuracy_score\n",
    "from sklearn.neural_network import MLPClassifier\n",
    "from sklearn.tree import DecisionTreeClassifier\n",
    "from IPython.display import display, HTML"
   ]
  },
  {
   "cell_type": "markdown",
   "metadata": {},
   "source": [
    "### Load Dataset"
   ]
  },
  {
   "cell_type": "code",
   "execution_count": 3,
   "metadata": {},
   "outputs": [],
   "source": [
    "# Dataset Source: https://www.kaggle.com/datasets/andrewsundberg/college-basketball-dataset?select=cbb13.csv\n",
    "\n",
    "dataframes = {}\n",
    "directory = 'march_mad_data'\n",
    "\n",
    "# Load general cbb.csv dataset into a dataframe\n",
    "for filename in os.listdir(directory):\n",
    "    if filename.endswith(\"cbb.csv\"):\n",
    "        path = os.path.join(directory, filename)\n",
    "        dataframes[filename] = pd.read_csv(path)"
   ]
  },
  {
   "cell_type": "code",
   "execution_count": 4,
   "metadata": {},
   "outputs": [
    {
     "name": "stdout",
     "output_type": "stream",
     "text": [
      "                TEAM  CONF   G   W  ADJOE  ADJDE  BARTHAG  EFG_O  EFG_D   TOR  \\\n",
      "0     North Carolina   ACC  40  33  123.3   94.9   0.9531   52.6   48.1  15.4   \n",
      "1          Wisconsin   B10  40  36  129.1   93.6   0.9758   54.8   47.7  12.4   \n",
      "2           Michigan   B10  40  33  114.4   90.4   0.9375   53.9   47.7  14.0   \n",
      "3         Texas Tech   B12  38  31  115.2   85.2   0.9696   53.5   43.0  17.7   \n",
      "4            Gonzaga   WCC  39  37  117.8   86.3   0.9728   56.6   41.1  16.2   \n",
      "...              ...   ...  ..  ..    ...    ...      ...    ...    ...   ...   \n",
      "3518          Toledo   MAC  34  27  119.9  109.6   0.7369   56.3   52.9  13.6   \n",
      "3519         Liberty  ASun  33  27  111.4   97.3   0.8246   55.5   49.3  16.0   \n",
      "3520     Utah Valley   WAC  34  28  107.1   94.6   0.8065   51.7   44.0  19.3   \n",
      "3521             UAB  CUSA  38  29  112.4   97.0   0.8453   50.3   47.3  17.3   \n",
      "3522     North Texas  CUSA  36  31  110.0   93.8   0.8622   51.2   44.5  19.8   \n",
      "\n",
      "      ...  FTRD  2P_O  2P_D  3P_O  3P_D  ADJ_T   WAB  POSTSEASON  SEED  YEAR  \n",
      "0     ...  30.4  53.9  44.6  32.7  36.2   71.7   8.6         2ND   1.0  2016  \n",
      "1     ...  22.4  54.8  44.7  36.5  37.5   59.3  11.3         2ND   1.0  2015  \n",
      "2     ...  30.0  54.7  46.8  35.2  33.2   65.9   6.9         2ND   3.0  2018  \n",
      "3     ...  36.6  52.8  41.9  36.5  29.7   67.5   7.0         2ND   3.0  2019  \n",
      "4     ...  26.9  56.3  40.0  38.2  29.0   71.5   7.7         2ND   1.0  2017  \n",
      "...   ...   ...   ...   ...   ...   ...    ...   ...         ...   ...   ...  \n",
      "3518  ...  27.5  54.6  52.1  39.7  36.1   69.5  -1.2         NaN   NaN  2023  \n",
      "3519  ...  27.8  56.4  48.6  36.4  33.6   64.4  -2.0         NaN   NaN  2023  \n",
      "3520  ...  28.7  52.5  42.8  33.4  31.1   69.8  -0.3         NaN   NaN  2023  \n",
      "3521  ...  28.9  48.8  47.2  35.6  31.6   70.7  -0.5         NaN   NaN  2023  \n",
      "3522  ...  40.2  49.6  44.2  35.7  30.1   58.7   1.1         NaN   NaN  2023  \n",
      "\n",
      "[3523 rows x 24 columns]\n"
     ]
    }
   ],
   "source": [
    "df = dataframes[\"cbb.csv\"]\n",
    "print(df)"
   ]
  },
  {
   "cell_type": "markdown",
   "metadata": {},
   "source": [
    "### Data Cleaning"
   ]
  },
  {
   "cell_type": "code",
   "execution_count": 5,
   "metadata": {},
   "outputs": [
    {
     "name": "stdout",
     "output_type": "stream",
     "text": [
      "[ 1.  3.  8.  4.  2.  7.  6.  9. 11. 10.  5. nan 16. 12. 13. 14. 15.]\n",
      "number of rows: 3523\n",
      "number of columns: 24\n"
     ]
    }
   ],
   "source": [
    "clean_df = df.replace(\"N/A\", \"NA\")\n",
    "print(df[\"SEED\"].unique())\n",
    "print(f\"number of rows: {len(clean_df)}\")\n",
    "print(f\"number of columns: {len(clean_df.columns)}\")"
   ]
  },
  {
   "cell_type": "markdown",
   "metadata": {},
   "source": [
    "# Drop columns we don't want\n"
   ]
  },
  {
   "cell_type": "markdown",
   "metadata": {},
   "source": [
    "### Exploratory Data Analysis (EDA)"
   ]
  },
  {
   "cell_type": "code",
   "execution_count": 12,
   "metadata": {},
   "outputs": [
    {
     "name": "stdout",
     "output_type": "stream",
     "text": [
      "['2ND' 'Champions' 'E8' 'F4' 'R32' 'R64' 'R68' 'S16']\n",
      "680\n"
     ]
    }
   ],
   "source": [
    "placement_df = clean_df.dropna()\n",
    "\n",
    "# Define a dictionary to map the postseason labels to numbers\n",
    "postseason_mapping = {'Champions': 1, '2ND': 2, 'F4': 4, 'E8': 8, 'R16': 16, 'R32': 32, 'R64': 64}\n",
    "\n",
    "# Use the map() function to convert the values in the \"POSTSEASON\" column\n",
    "df['POSTSEASON'] = df['POSTSEASON'].map(postseason_mapping)\n",
    "\n",
    "print(placement_df[\"POSTSEASON\"].unique())\n",
    "print(len(placement_df))"
   ]
  },
  {
   "cell_type": "code",
   "execution_count": 8,
   "metadata": {},
   "outputs": [],
   "source": [
    "placement_df = placement_df.drop(columns=['TEAM'])\n",
    "one_hot_encoded = pd.get_dummies(placement_df['CONF'])\n",
    "placement_df = placement_df.drop(columns=['CONF'])\n",
    "placement_df = pd.concat([placement_df, one_hot_encoded], axis=1)\n",
    "placement_df['WINRATE'] = placement_df['W'] / placement_df['G']"
   ]
  },
  {
   "cell_type": "code",
   "execution_count": 8,
   "metadata": {},
   "outputs": [],
   "source": [
    "# Compare conference and whether the team qualifies for March Madness (EDA) !!!!!!!!!!!!!!!!!!!!!"
   ]
  },
  {
   "cell_type": "code",
   "execution_count": null,
   "metadata": {},
   "outputs": [],
   "source": []
  },
  {
   "cell_type": "code",
   "execution_count": 9,
   "metadata": {},
   "outputs": [
    {
     "ename": "ValueError",
     "evalue": "could not convert string to float: '2ND'",
     "output_type": "error",
     "traceback": [
      "\u001b[1;31m---------------------------------------------------------------------------\u001b[0m",
      "\u001b[1;31mValueError\u001b[0m                                Traceback (most recent call last)",
      "Cell \u001b[1;32mIn[9], line 1\u001b[0m\n\u001b[1;32m----> 1\u001b[0m correlation_table \u001b[38;5;241m=\u001b[39m \u001b[43mplacement_df\u001b[49m\u001b[38;5;241;43m.\u001b[39;49m\u001b[43mcorr\u001b[49m\u001b[43m(\u001b[49m\u001b[43m)\u001b[49m[\u001b[38;5;124m'\u001b[39m\u001b[38;5;124mPOSTSEASON\u001b[39m\u001b[38;5;124m'\u001b[39m]\n\u001b[0;32m      3\u001b[0m \u001b[38;5;66;03m# Sort the correlation table\u001b[39;00m\n\u001b[0;32m      4\u001b[0m sorted_correlation_table \u001b[38;5;241m=\u001b[39m correlation_table\u001b[38;5;241m.\u001b[39msort_values(ascending\u001b[38;5;241m=\u001b[39m\u001b[38;5;28;01mFalse\u001b[39;00m)\n",
      "File \u001b[1;32mc:\\Users\\seand\\AppData\\Local\\Programs\\Python\\Python312\\Lib\\site-packages\\pandas\\core\\frame.py:11049\u001b[0m, in \u001b[0;36mDataFrame.corr\u001b[1;34m(self, method, min_periods, numeric_only)\u001b[0m\n\u001b[0;32m  11047\u001b[0m cols \u001b[38;5;241m=\u001b[39m data\u001b[38;5;241m.\u001b[39mcolumns\n\u001b[0;32m  11048\u001b[0m idx \u001b[38;5;241m=\u001b[39m cols\u001b[38;5;241m.\u001b[39mcopy()\n\u001b[1;32m> 11049\u001b[0m mat \u001b[38;5;241m=\u001b[39m \u001b[43mdata\u001b[49m\u001b[38;5;241;43m.\u001b[39;49m\u001b[43mto_numpy\u001b[49m\u001b[43m(\u001b[49m\u001b[43mdtype\u001b[49m\u001b[38;5;241;43m=\u001b[39;49m\u001b[38;5;28;43mfloat\u001b[39;49m\u001b[43m,\u001b[49m\u001b[43m \u001b[49m\u001b[43mna_value\u001b[49m\u001b[38;5;241;43m=\u001b[39;49m\u001b[43mnp\u001b[49m\u001b[38;5;241;43m.\u001b[39;49m\u001b[43mnan\u001b[49m\u001b[43m,\u001b[49m\u001b[43m \u001b[49m\u001b[43mcopy\u001b[49m\u001b[38;5;241;43m=\u001b[39;49m\u001b[38;5;28;43;01mFalse\u001b[39;49;00m\u001b[43m)\u001b[49m\n\u001b[0;32m  11051\u001b[0m \u001b[38;5;28;01mif\u001b[39;00m method \u001b[38;5;241m==\u001b[39m \u001b[38;5;124m\"\u001b[39m\u001b[38;5;124mpearson\u001b[39m\u001b[38;5;124m\"\u001b[39m:\n\u001b[0;32m  11052\u001b[0m     correl \u001b[38;5;241m=\u001b[39m libalgos\u001b[38;5;241m.\u001b[39mnancorr(mat, minp\u001b[38;5;241m=\u001b[39mmin_periods)\n",
      "File \u001b[1;32mc:\\Users\\seand\\AppData\\Local\\Programs\\Python\\Python312\\Lib\\site-packages\\pandas\\core\\frame.py:1993\u001b[0m, in \u001b[0;36mDataFrame.to_numpy\u001b[1;34m(self, dtype, copy, na_value)\u001b[0m\n\u001b[0;32m   1991\u001b[0m \u001b[38;5;28;01mif\u001b[39;00m dtype \u001b[38;5;129;01mis\u001b[39;00m \u001b[38;5;129;01mnot\u001b[39;00m \u001b[38;5;28;01mNone\u001b[39;00m:\n\u001b[0;32m   1992\u001b[0m     dtype \u001b[38;5;241m=\u001b[39m np\u001b[38;5;241m.\u001b[39mdtype(dtype)\n\u001b[1;32m-> 1993\u001b[0m result \u001b[38;5;241m=\u001b[39m \u001b[38;5;28;43mself\u001b[39;49m\u001b[38;5;241;43m.\u001b[39;49m\u001b[43m_mgr\u001b[49m\u001b[38;5;241;43m.\u001b[39;49m\u001b[43mas_array\u001b[49m\u001b[43m(\u001b[49m\u001b[43mdtype\u001b[49m\u001b[38;5;241;43m=\u001b[39;49m\u001b[43mdtype\u001b[49m\u001b[43m,\u001b[49m\u001b[43m \u001b[49m\u001b[43mcopy\u001b[49m\u001b[38;5;241;43m=\u001b[39;49m\u001b[43mcopy\u001b[49m\u001b[43m,\u001b[49m\u001b[43m \u001b[49m\u001b[43mna_value\u001b[49m\u001b[38;5;241;43m=\u001b[39;49m\u001b[43mna_value\u001b[49m\u001b[43m)\u001b[49m\n\u001b[0;32m   1994\u001b[0m \u001b[38;5;28;01mif\u001b[39;00m result\u001b[38;5;241m.\u001b[39mdtype \u001b[38;5;129;01mis\u001b[39;00m \u001b[38;5;129;01mnot\u001b[39;00m dtype:\n\u001b[0;32m   1995\u001b[0m     result \u001b[38;5;241m=\u001b[39m np\u001b[38;5;241m.\u001b[39masarray(result, dtype\u001b[38;5;241m=\u001b[39mdtype)\n",
      "File \u001b[1;32mc:\\Users\\seand\\AppData\\Local\\Programs\\Python\\Python312\\Lib\\site-packages\\pandas\\core\\internals\\managers.py:1694\u001b[0m, in \u001b[0;36mBlockManager.as_array\u001b[1;34m(self, dtype, copy, na_value)\u001b[0m\n\u001b[0;32m   1692\u001b[0m         arr\u001b[38;5;241m.\u001b[39mflags\u001b[38;5;241m.\u001b[39mwriteable \u001b[38;5;241m=\u001b[39m \u001b[38;5;28;01mFalse\u001b[39;00m\n\u001b[0;32m   1693\u001b[0m \u001b[38;5;28;01melse\u001b[39;00m:\n\u001b[1;32m-> 1694\u001b[0m     arr \u001b[38;5;241m=\u001b[39m \u001b[38;5;28;43mself\u001b[39;49m\u001b[38;5;241;43m.\u001b[39;49m\u001b[43m_interleave\u001b[49m\u001b[43m(\u001b[49m\u001b[43mdtype\u001b[49m\u001b[38;5;241;43m=\u001b[39;49m\u001b[43mdtype\u001b[49m\u001b[43m,\u001b[49m\u001b[43m \u001b[49m\u001b[43mna_value\u001b[49m\u001b[38;5;241;43m=\u001b[39;49m\u001b[43mna_value\u001b[49m\u001b[43m)\u001b[49m\n\u001b[0;32m   1695\u001b[0m     \u001b[38;5;66;03m# The underlying data was copied within _interleave, so no need\u001b[39;00m\n\u001b[0;32m   1696\u001b[0m     \u001b[38;5;66;03m# to further copy if copy=True or setting na_value\u001b[39;00m\n\u001b[0;32m   1698\u001b[0m \u001b[38;5;28;01mif\u001b[39;00m na_value \u001b[38;5;129;01mis\u001b[39;00m lib\u001b[38;5;241m.\u001b[39mno_default:\n",
      "File \u001b[1;32mc:\\Users\\seand\\AppData\\Local\\Programs\\Python\\Python312\\Lib\\site-packages\\pandas\\core\\internals\\managers.py:1753\u001b[0m, in \u001b[0;36mBlockManager._interleave\u001b[1;34m(self, dtype, na_value)\u001b[0m\n\u001b[0;32m   1751\u001b[0m     \u001b[38;5;28;01melse\u001b[39;00m:\n\u001b[0;32m   1752\u001b[0m         arr \u001b[38;5;241m=\u001b[39m blk\u001b[38;5;241m.\u001b[39mget_values(dtype)\n\u001b[1;32m-> 1753\u001b[0m     \u001b[43mresult\u001b[49m\u001b[43m[\u001b[49m\u001b[43mrl\u001b[49m\u001b[38;5;241;43m.\u001b[39;49m\u001b[43mindexer\u001b[49m\u001b[43m]\u001b[49m \u001b[38;5;241m=\u001b[39m arr\n\u001b[0;32m   1754\u001b[0m     itemmask[rl\u001b[38;5;241m.\u001b[39mindexer] \u001b[38;5;241m=\u001b[39m \u001b[38;5;241m1\u001b[39m\n\u001b[0;32m   1756\u001b[0m \u001b[38;5;28;01mif\u001b[39;00m \u001b[38;5;129;01mnot\u001b[39;00m itemmask\u001b[38;5;241m.\u001b[39mall():\n",
      "\u001b[1;31mValueError\u001b[0m: could not convert string to float: '2ND'"
     ]
    }
   ],
   "source": [
    "correlation_table = placement_df.corr()['POSTSEASON']\n",
    "\n",
    "# Sort the correlation table\n",
    "sorted_correlation_table = correlation_table.sort_values(ascending=False)\n",
    "\n",
    "# Display the sorted correlation table with scrollable output\n",
    "display(HTML(sorted_correlation_table.to_frame().to_html()))\n",
    "# print(correlation_table)"
   ]
  },
  {
   "cell_type": "markdown",
   "metadata": {},
   "source": [
    "### EDA Analysis"
   ]
  },
  {
   "cell_type": "code",
   "execution_count": 10,
   "metadata": {},
   "outputs": [],
   "source": [
    "### Team attributes with the highest impact on seeding \n",
    "### (larger magnitude correlations from the correlation table)\n",
    "\n",
    "# WAB = Wins Above Bubble (May not use because bubble/March Madness cutoff is always changing)\n",
    "# BARTHAG = Power Ranking / Chance of beating an average D1 team (May not use because subjective power-ranking)\n",
    "# ADJOE = Adjusted Offensive Efficiency (number of points scored every 100 possessions)\n",
    "# W = Wins\n",
    "# G = Games\n",
    "# ORB = Offensive Rebound Rate\n",
    "# EFG_O = Effective Field Goal Percentage Short\n",
    "# 2P_O = 2 Point shooting percentage\n",
    "\n",
    "# ADJDE = Adjusted Defensive Efficiency (number of points allowed every 100 opponent possessions)\n",
    "# 2P_D = 2 Point shooting percentage allowed\n",
    "# EFG_D = Effective Field Goal percentage allowed\n",
    "# TOR = Turnover Rate\n",
    "# FTR_D = Free Throw Rate allowed\n",
    "\n",
    "# B12\n",
    "# ACC\n",
    "# B10"
   ]
  },
  {
   "cell_type": "markdown",
   "metadata": {},
   "source": [
    "### Training Machine Learning Models"
   ]
  },
  {
   "cell_type": "markdown",
   "metadata": {},
   "source": [
    "#### Create data splits"
   ]
  },
  {
   "cell_type": "code",
   "execution_count": 11,
   "metadata": {},
   "outputs": [],
   "source": [
    "# Select the relevant columns for training the model\n",
    "features = ['WINRATE', 'ADJOE', 'ADJDE', 'EFG_O', 'EFG_D', 'TOR', 'ORB', 'FTRD', '2P_D']\n",
    "\n",
    "# Split the data into training and testing sets\n",
    "X = placement_df[features]\n",
    "y = placement_df['SEED']\n",
    "X_train, X_test, y_train, y_test = train_test_split(X, y, test_size=0.1, random_state=42)"
   ]
  },
  {
   "cell_type": "markdown",
   "metadata": {},
   "source": [
    "#### Decision Tree"
   ]
  },
  {
   "cell_type": "code",
   "execution_count": 12,
   "metadata": {},
   "outputs": [
    {
     "name": "stdout",
     "output_type": "stream",
     "text": [
      "Accuracy: 0.14705882352941177\n"
     ]
    }
   ],
   "source": [
    "# Create a decision tree classifier\n",
    "dt_classifier = DecisionTreeClassifier()\n",
    "\n",
    "# Train the classifier on the training data\n",
    "dt_classifier.fit(X_train, y_train)\n",
    "\n",
    "# Make predictions on the test set\n",
    "y_pred = dt_classifier.predict(X_test)\n",
    "\n",
    "# Calculate the accuracy of the classifier\n",
    "accuracy = accuracy_score(y_test, y_pred)\n",
    "print(\"Accuracy:\", accuracy)"
   ]
  },
  {
   "cell_type": "code",
   "execution_count": 13,
   "metadata": {},
   "outputs": [
    {
     "name": "stdout",
     "output_type": "stream",
     "text": [
      "DT Average Distance between Predicted and Actual Seed: 2.2205882352941178\n"
     ]
    }
   ],
   "source": [
    "# Get the predicted seed values\n",
    "predicted_seeds = dt_classifier.predict(X_test)\n",
    "\n",
    "# Get the actual seed values\n",
    "actual_seeds = placement_df.loc[X_test.index]['SEED']\n",
    "\n",
    "# Calculate the absolute difference between predicted and actual seeds\n",
    "seed_diff = np.abs(predicted_seeds - actual_seeds)\n",
    "\n",
    "# Calculate the average distance\n",
    "average_distance = np.mean(seed_diff)\n",
    "\n",
    "print(\"DT Average Distance between Predicted and Actual Seed:\", average_distance)"
   ]
  },
  {
   "cell_type": "markdown",
   "metadata": {},
   "source": [
    "#### Random Forest Classifier"
   ]
  },
  {
   "cell_type": "code",
   "execution_count": 14,
   "metadata": {},
   "outputs": [
    {
     "name": "stdout",
     "output_type": "stream",
     "text": [
      "Accuracy: 0.36764705882352944\n"
     ]
    }
   ],
   "source": [
    "# Train the Random Forest model\n",
    "rf_classifier = RandomForestClassifier(n_estimators=200, random_state=42)\n",
    "rf_classifier.fit(X_train, y_train)\n",
    "\n",
    "# Make predictions on the test set\n",
    "y_pred = rf_classifier.predict(X_test)\n",
    "\n",
    "# Evaluate the model\n",
    "accuracy = accuracy_score(y_test, y_pred)\n",
    "print(\"Accuracy:\", accuracy)"
   ]
  },
  {
   "cell_type": "code",
   "execution_count": 15,
   "metadata": {},
   "outputs": [
    {
     "name": "stdout",
     "output_type": "stream",
     "text": [
      "RF Average Distance between Predicted and Actual Seed: 1.4705882352941178\n"
     ]
    }
   ],
   "source": [
    "# Get the predicted seed values\n",
    "predicted_seeds = rf_classifier.predict(X_test)\n",
    "\n",
    "# Get the actual seed values\n",
    "actual_seeds = placement_df.loc[X_test.index]['SEED']\n",
    "\n",
    "# Calculate the absolute difference between predicted and actual seeds\n",
    "seed_diff = np.abs(predicted_seeds - actual_seeds)\n",
    "\n",
    "# Calculate the average distance\n",
    "average_distance = np.mean(seed_diff)\n",
    "\n",
    "print(\"RF Average Distance between Predicted and Actual Seed:\", average_distance)"
   ]
  },
  {
   "cell_type": "markdown",
   "metadata": {},
   "source": [
    "### Grid Search RF"
   ]
  },
  {
   "cell_type": "code",
   "execution_count": 24,
   "metadata": {},
   "outputs": [],
   "source": [
    "from sklearn.ensemble import RandomForestClassifier\n",
    "from sklearn.model_selection import GridSearchCV\n",
    "\n",
    "# Define the parameter grid for grid search\n",
    "param_grid = {\n",
    "    'n_estimators': [100, 200, 300],\n",
    "    'max_depth': [None, 5, 10],\n",
    "    'min_samples_split': [2, 5, 10],\n",
    "    'min_samples_leaf': [1, 2, 4]\n",
    "}\n",
    "\n",
    "# Create the random forest classifier\n",
    "rf = RandomForestClassifier()\n",
    "\n",
    "# Create the grid search object\n",
    "grid_search = GridSearchCV(estimator=rf, param_grid=param_grid, cv=5)\n",
    "\n",
    "# Fit the grid search to the training data\n",
    "grid_search.fit(X_train, y_train)\n",
    "\n",
    "# Get the best parameters and best score\n",
    "best_params = grid_search.best_params_\n",
    "best_score = grid_search.best_score_\n",
    "\n",
    "# Use the best parameters to create the final random forest model\n",
    "final_rf = RandomForestClassifier(**best_params)\n",
    "\n",
    "# Fit the final model to the training data\n",
    "final_rf.fit(X_train, y_train)\n",
    "\n",
    "# Evaluate the final model on the test data\n",
    "accuracy = final_rf.score(X_test, y_test)\n",
    "\n",
    "print(\"Final Random Forest Model Accuracy:\", accuracy)"
   ]
  },
  {
   "cell_type": "code",
   "execution_count": 27,
   "metadata": {},
   "outputs": [
    {
     "name": "stdout",
     "output_type": "stream",
     "text": [
      "Final Random Forest Model Accuracy: 0.3382352941176471\n"
     ]
    }
   ],
   "source": [
    "print(\"Final Random Forest Model Accuracy:\", accuracy)"
   ]
  },
  {
   "cell_type": "code",
   "execution_count": 26,
   "metadata": {},
   "outputs": [
    {
     "name": "stdout",
     "output_type": "stream",
     "text": [
      "RF Average Distance between Predicted and Actual Seed: 1.4411764705882353\n"
     ]
    }
   ],
   "source": [
    "# Get the predicted seed values\n",
    "predicted_seeds = final_rf.predict(X_test)\n",
    "\n",
    "# Get the actual seed values\n",
    "actual_seeds = placement_df.loc[X_test.index]['SEED']\n",
    "\n",
    "# Calculate the absolute difference between predicted and actual seeds\n",
    "seed_diff = np.abs(predicted_seeds - actual_seeds)\n",
    "\n",
    "# Calculate the average distance\n",
    "average_distance = np.mean(seed_diff)\n",
    "\n",
    "print(\"RF Average Distance between Predicted and Actual Seed:\", average_distance)"
   ]
  },
  {
   "cell_type": "markdown",
   "metadata": {},
   "source": [
    "#### Neural Network"
   ]
  },
  {
   "cell_type": "code",
   "execution_count": 19,
   "metadata": {},
   "outputs": [
    {
     "name": "stdout",
     "output_type": "stream",
     "text": [
      "Predictions: [11. 16.  3. 16.  3. 16. 15. 11. 11.  4.  8.  3. 15. 16.  3. 11. 11.  4.\n",
      "  8. 16.  2.  3. 11. 15. 15.  2.  8.  3. 11.  3. 11. 15. 11. 11.  2.  3.\n",
      "  2.  3. 15.  2.  3. 15.  1. 11.  8. 16. 11. 16.  1. 15.  1. 15. 11. 11.\n",
      " 14. 14. 11.  1.  3.  3. 11.  2.  8. 12. 11. 16. 13. 11.]\n",
      "Accuracy: 0.27941176470588236\n"
     ]
    }
   ],
   "source": [
    "from sklearn.neural_network import MLPClassifier\n",
    "\n",
    "# Create an instance of the MLPClassifier\n",
    "model = MLPClassifier(hidden_layer_sizes=(50, 50, 50), activation='relu', solver='adam', random_state=42)\n",
    "\n",
    "# Train the model\n",
    "model.fit(X_train, y_train)\n",
    "\n",
    "# Make predictions on the test data\n",
    "predictions = model.predict(X_test)\n",
    "\n",
    "# Evaluate the accuracy of the model\n",
    "accuracy = model.score(X_test, y_test)\n",
    "\n",
    "# Print the predictions and accuracy\n",
    "print(\"Predictions:\", predictions)\n",
    "print(\"Accuracy:\", accuracy)"
   ]
  },
  {
   "cell_type": "code",
   "execution_count": 20,
   "metadata": {},
   "outputs": [
    {
     "name": "stdout",
     "output_type": "stream",
     "text": [
      "DT Average Distance between Predicted and Actual Seed: 1.7352941176470589\n"
     ]
    }
   ],
   "source": [
    "# Get the predicted seed values\n",
    "predicted_seeds = model.predict(X_test)\n",
    "\n",
    "# Get the actual seed values\n",
    "actual_seeds = placement_df.loc[X_test.index]['SEED']\n",
    "\n",
    "# Calculate the absolute difference between predicted and actual seeds\n",
    "seed_diff = np.abs(predicted_seeds - actual_seeds)\n",
    "\n",
    "# Calculate the average distance\n",
    "average_distance = np.mean(seed_diff)\n",
    "\n",
    "print(\"DT Average Distance between Predicted and Actual Seed:\", average_distance)"
   ]
  },
  {
   "cell_type": "code",
   "execution_count": 23,
   "metadata": {},
   "outputs": [
    {
     "name": "stdout",
     "output_type": "stream",
     "text": [
      "Actual Seed: 9.0 , Predicted Seed: 8.0\n",
      "Actual Seed: 16.0 , Predicted Seed: 15.0\n",
      "Actual Seed: 3.0 , Predicted Seed: 8.0\n",
      "Actual Seed: 15.0 , Predicted Seed: 16.0\n",
      "Actual Seed: 1.0 , Predicted Seed: 3.0\n",
      "Actual Seed: 16.0 , Predicted Seed: 16.0\n",
      "Actual Seed: 13.0 , Predicted Seed: 14.0\n",
      "Actual Seed: 12.0 , Predicted Seed: 10.0\n",
      "Actual Seed: 12.0 , Predicted Seed: 7.0\n",
      "Actual Seed: 3.0 , Predicted Seed: 3.0\n",
      "Actual Seed: 7.0 , Predicted Seed: 7.0\n",
      "Actual Seed: 3.0 , Predicted Seed: 5.0\n",
      "Actual Seed: 15.0 , Predicted Seed: 15.0\n",
      "Actual Seed: 16.0 , Predicted Seed: 16.0\n",
      "Actual Seed: 6.0 , Predicted Seed: 7.0\n",
      "Actual Seed: 8.0 , Predicted Seed: 12.0\n",
      "Actual Seed: 9.0 , Predicted Seed: 9.0\n",
      "Actual Seed: 9.0 , Predicted Seed: 6.0\n",
      "Actual Seed: 11.0 , Predicted Seed: 9.0\n",
      "Actual Seed: 16.0 , Predicted Seed: 16.0\n",
      "Actual Seed: 2.0 , Predicted Seed: 1.0\n",
      "Actual Seed: 10.0 , Predicted Seed: 8.0\n",
      "Actual Seed: 9.0 , Predicted Seed: 9.0\n",
      "Actual Seed: 15.0 , Predicted Seed: 16.0\n",
      "Actual Seed: 15.0 , Predicted Seed: 13.0\n",
      "Actual Seed: 4.0 , Predicted Seed: 4.0\n",
      "Actual Seed: 3.0 , Predicted Seed: 10.0\n",
      "Actual Seed: 2.0 , Predicted Seed: 1.0\n",
      "Actual Seed: 11.0 , Predicted Seed: 11.0\n",
      "Actual Seed: 6.0 , Predicted Seed: 3.0\n",
      "Actual Seed: 12.0 , Predicted Seed: 12.0\n",
      "Actual Seed: 16.0 , Predicted Seed: 16.0\n",
      "Actual Seed: 11.0 , Predicted Seed: 11.0\n",
      "Actual Seed: 4.0 , Predicted Seed: 6.0\n",
      "Actual Seed: 2.0 , Predicted Seed: 2.0\n",
      "Actual Seed: 5.0 , Predicted Seed: 3.0\n",
      "Actual Seed: 11.0 , Predicted Seed: 4.0\n",
      "Actual Seed: 4.0 , Predicted Seed: 4.0\n",
      "Actual Seed: 16.0 , Predicted Seed: 16.0\n",
      "Actual Seed: 3.0 , Predicted Seed: 1.0\n",
      "Actual Seed: 7.0 , Predicted Seed: 11.0\n",
      "Actual Seed: 14.0 , Predicted Seed: 14.0\n",
      "Actual Seed: 2.0 , Predicted Seed: 1.0\n",
      "Actual Seed: 10.0 , Predicted Seed: 10.0\n",
      "Actual Seed: 11.0 , Predicted Seed: 9.0\n",
      "Actual Seed: 16.0 , Predicted Seed: 16.0\n",
      "Actual Seed: 4.0 , Predicted Seed: 5.0\n",
      "Actual Seed: 16.0 , Predicted Seed: 16.0\n",
      "Actual Seed: 2.0 , Predicted Seed: 1.0\n",
      "Actual Seed: 15.0 , Predicted Seed: 13.0\n",
      "Actual Seed: 2.0 , Predicted Seed: 2.0\n",
      "Actual Seed: 14.0 , Predicted Seed: 15.0\n",
      "Actual Seed: 4.0 , Predicted Seed: 3.0\n",
      "Actual Seed: 10.0 , Predicted Seed: 10.0\n",
      "Actual Seed: 15.0 , Predicted Seed: 16.0\n",
      "Actual Seed: 13.0 , Predicted Seed: 15.0\n",
      "Actual Seed: 12.0 , Predicted Seed: 12.0\n",
      "Actual Seed: 7.0 , Predicted Seed: 1.0\n",
      "Actual Seed: 5.0 , Predicted Seed: 8.0\n",
      "Actual Seed: 3.0 , Predicted Seed: 5.0\n",
      "Actual Seed: 9.0 , Predicted Seed: 11.0\n",
      "Actual Seed: 3.0 , Predicted Seed: 1.0\n",
      "Actual Seed: 9.0 , Predicted Seed: 5.0\n",
      "Actual Seed: 13.0 , Predicted Seed: 12.0\n",
      "Actual Seed: 13.0 , Predicted Seed: 11.0\n",
      "Actual Seed: 16.0 , Predicted Seed: 16.0\n",
      "Actual Seed: 13.0 , Predicted Seed: 13.0\n",
      "Actual Seed: 13.0 , Predicted Seed: 15.0\n"
     ]
    }
   ],
   "source": [
    "# Print actual vs predicted seed to check how accurate the predictions are\n",
    "# model = dt_classifier # Change to whatever model you want to use\n",
    "model = rf_classifier \n",
    "\n",
    "predicted_seeds = model.predict(X_test)\n",
    "for actual_seed, predicted_seed in zip(actual_seeds, predicted_seeds):\n",
    "    print(\"Actual Seed:\", actual_seed, \", Predicted Seed:\", predicted_seed)"
   ]
  },
  {
   "cell_type": "code",
   "execution_count": 32,
   "metadata": {},
   "outputs": [
    {
     "data": {
      "image/png": "[encoded data removed]",
      "text/plain": [
       "<Figure size 640x480 with 1 Axes>"
      ]
     },
     "metadata": {},
     "output_type": "display_data"
    }
   ],
   "source": [
    "import matplotlib.pyplot as plt\n",
    "\n",
    "# Calculate the difference between predicted seed and actual seed\n",
    "seed_difference = predicted_seeds - actual_seeds\n",
    "\n",
    "# Create a histogram of the seed difference\n",
    "plt.hist(seed_difference, bins=range(-10, 10), edgecolor='black')\n",
    "\n",
    "# Set the labels and title\n",
    "plt.xlabel('Seed Difference (Predicted - Actual)')\n",
    "plt.ylabel('Frequency')\n",
    "plt.title('Distribution of Seed Difference')\n",
    "\n",
    "# Show the plot\n",
    "plt.show()"
   ]
  },
  {
   "cell_type": "code",
   "execution_count": null,
   "metadata": {},
   "outputs": [],
   "source": [
    "# Predict whether a team will qualify for March Madness"
   ]
  },
  {
   "cell_type": "code",
   "execution_count": null,
   "metadata": {},
   "outputs": [],
   "source": [
    "# Predict final post season result"
   ]
  },
  {
   "cell_type": "code",
   "execution_count": null,
   "metadata": {},
   "outputs": [],
   "source": [
    "# Run on cbb24.csv"
   ]
  },
  {
   "cell_type": "code",
   "execution_count": null,
   "metadata": {},
   "outputs": [],
   "source": []
  },
  {
   "cell_type": "code",
   "execution_count": null,
   "metadata": {},
   "outputs": [],
   "source": []
  }
 ],
 "metadata": {
  "kernelspec": {
   "display_name": "Python 3",
   "language": "python",
   "name": "python3"
  },
  "language_info": {
   "codemirror_mode": {
    "name": "ipython",
    "version": 3
   },
   "file_extension": ".py",
   "mimetype": "text/x-python",
   "name": "python",
   "nbconvert_exporter": "python",
   "pygments_lexer": "ipython3",
   "version": "3.12.1"
  }
 },
 "nbformat": 4,
 "nbformat_minor": 2
}
